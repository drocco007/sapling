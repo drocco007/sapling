{
 "cells": [
  {
   "cell_type": "code",
   "execution_count": 1,
   "metadata": {
    "collapsed": false,
    "slideshow": {
     "slide_type": "skip"
    }
   },
   "outputs": [
    {
     "data": {
      "text/plain": [
       "{'height': 768,\n",
       " 'start_slideshow_at': 'selected',\n",
       " 'theme': 'solarized',\n",
       " 'transition': 'none',\n",
       " 'width': 1024}"
      ]
     },
     "execution_count": 1,
     "metadata": {},
     "output_type": "execute_result"
    }
   ],
   "source": [
    "# set up the slide show\n",
    "from notebook.services.config import ConfigManager\n",
    "cm = ConfigManager()\n",
    "cm.update('livereveal', {\n",
    "    'theme': 'solarized',\n",
    "    #'width': 1024,\n",
    "    #'height': 768,\n",
    "    'transition': 'none',\n",
    "    'start_slideshow_at': 'selected',\n",
    "})"
   ]
  },
  {
   "cell_type": "code",
   "execution_count": 2,
   "metadata": {
    "collapsed": false,
    "slideshow": {
     "slide_type": "skip"
    }
   },
   "outputs": [
    {
     "data": {
      "text/html": [
       "<style>body.rise-enabled\n",
       "{\n",
       "    background: #fdf6e3;\n",
       "    background-color: #fdf6e3;\n",
       "}\n",
       "\n",
       ".rise-enabled #header\n",
       "{\n",
       "    display: none !important;\n",
       "}\n",
       "\n",
       ".reveal li\n",
       "{\n",
       "    list-style: none;\n",
       "}\n",
       "\n",
       ".reveal\n",
       "{\n",
       "    font-family: \"Ubuntu\";\n",
       "    font-size: 42zpx;\n",
       "    font-variant-ligatures: common-ligatures;\n",
       "    letter-spacing: inherit;\n",
       "}\n",
       "\n",
       ".reveal .rendered_html\n",
       "{\n",
       "    color: #586e75;\n",
       "}\n",
       "\n",
       ".reveal .rendered_html h1,\n",
       ".reveal .rendered_html h2,\n",
       ".reveal .rendered_html h3,\n",
       ".reveal .rendered_html h4,\n",
       ".reveal .rendered_html h5,\n",
       ".reveal .rendered_html h6\n",
       "{\n",
       "    text-shadow: none;\n",
       "    font-weight: normal;\n",
       "}\n",
       "\n",
       ".reveal .rendered_html h1\n",
       "{\n",
       "    font-size: 300%;\n",
       "}\n",
       "\n",
       ".reveal .rendered_html h2\n",
       "{\n",
       "    font-size: 200%;\n",
       "}\n",
       "\n",
       ".reveal .rendered_html p\n",
       "{\n",
       "    text-align: center;\n",
       "}\n",
       "\n",
       ".reveal .rendered_html img\n",
       "{\n",
       "    display: inline-block;\n",
       "}\n",
       "\n",
       ".reveal pre,\n",
       ".reveal code,\n",
       ".reveal .prompt\n",
       "{\n",
       "    font-family: \"Ubuntu Mono\", monospace !important;\n",
       "    font-size: 42zpx !important;\n",
       "    line-height: 1.2em;\n",
       "}\n",
       "\n",
       ".rise-enabled .reveal pre,\n",
       ".rise-enabled .reveal code\n",
       "{\n",
       "    padding: 0;\n",
       "    background: none;\n",
       "    color: #2aa198;\n",
       "    overflow: visible;\n",
       "}\n",
       "\n",
       ".reveal .prompt\n",
       "{\n",
       "    padding: 9px 0 0 0 !important;\n",
       "}\n",
       "\n",
       ".reveal em\n",
       "{\n",
       "  font-style: italic;\n",
       "  color: #b58900;\n",
       "}\n",
       "\n",
       ".reveal strong\n",
       "{\n",
       "  color: #d33682;\n",
       "}\n",
       "\n",
       ".reveal blockquote\n",
       "{\n",
       "    background: none;\n",
       "    border: none;\n",
       "    box-shadow: none;\n",
       "}\n",
       "\n",
       ".reveal #slide-0-0 .rendered_html\n",
       "{\n",
       "    position: absolute;\n",
       "    top: 175px;\n",
       "    left: 100px;\n",
       "}\n",
       "\n",
       "\n",
       "/*\n",
       " * Suppress error message triggered by Jupyter encoding bug\n",
       " *\n",
       " * http://stackoverflow.com/questions/2260815/weird-problem-with-input-encoding-in-ipython\n",
       " */\n",
       ".output_stderr\n",
       "{\n",
       "    display: none;\n",
       "}\n",
       "</style>"
      ],
      "text/plain": [
       "<IPython.core.display.HTML object>"
      ]
     },
     "execution_count": 2,
     "metadata": {},
     "output_type": "execute_result"
    }
   ],
   "source": [
    "# CSS overrides\n",
    "from IPython.core.display import HTML\n",
    "css = open('style-notebook.css').read()\n",
    "HTML('<style>{}</style>'.format(css))"
   ]
  },
  {
   "cell_type": "code",
   "execution_count": 3,
   "metadata": {
    "collapsed": true,
    "slideshow": {
     "slide_type": "skip"
    }
   },
   "outputs": [],
   "source": [
    "import os\n",
    "\n",
    "os.chdir('/tmp')"
   ]
  },
  {
   "cell_type": "markdown",
   "metadata": {
    "slideshow": {
     "slide_type": "slide"
    }
   },
   "source": [
    "# PyAtl\n",
    "\n",
    "## April 14, 2016\n",
    "## General Assembly\n",
    "\n",
    "* Welcome\n",
    "* Hello from GA!\n",
    "* Announcements\n",
    "* Talks"
   ]
  },
  {
   "cell_type": "markdown",
   "metadata": {
    "slideshow": {
     "slide_type": "slide"
    }
   },
   "source": [
    "## Talks\n",
    "\n",
    "*Implementing the* `tree` *command in Python* (beginner)<br/>\n",
    "— Daniel Rocco\n",
    "\n",
    "*Faster Debugging with PDB: No More Printing Out Objects*<br/>\n",
    "—Benjamin Crom\n",
    "\n",
    "&lt;br/&gt;\n",
    "\n",
    "*Python on AWS Lambda: Practical Applications*<br/>\n",
    "—Brian Morton"
   ]
  },
  {
   "cell_type": "markdown",
   "metadata": {
    "slideshow": {
     "slide_type": "slide"
    }
   },
   "source": [
    "# Hello from GA!"
   ]
  },
  {
   "cell_type": "markdown",
   "metadata": {
    "slideshow": {
     "data": {
      "background-color": "#a6dde6"
     },
     "slide_type": "slide"
    }
   },
   "source": [
    "# Announcements\n",
    "\n",
    "<img src=\"PyCon16-logo.svg\" width=\"600\" class=\"center-block\">"
   ]
  },
  {
   "cell_type": "markdown",
   "metadata": {
    "slideshow": {
     "data": {
      "background-image": "Sapling_on_a_stub.jpg"
     },
     "slide_type": "slide"
    }
   },
   "source": [
    "# sapling\n",
    "\n",
    "### Implementing `tree` in Python\n",
    "\n",
    "<script>$(\"#slide-4-0\").data(\"backgroundImage\", \"Sapling_on_a_stub.jpg\")</script>"
   ]
  },
  {
   "cell_type": "markdown",
   "metadata": {
    "slideshow": {
     "slide_type": "slide"
    }
   },
   "source": [
    "`tree`"
   ]
  },
  {
   "cell_type": "code",
   "execution_count": 4,
   "metadata": {
    "collapsed": false,
    "slideshow": {
     "slide_type": "fragment"
    }
   },
   "outputs": [
    {
     "name": "stdout",
     "output_type": "stream",
     "text": [
      "/tmp\r\n"
     ]
    }
   ],
   "source": [
    "!pwd"
   ]
  },
  {
   "cell_type": "code",
   "execution_count": 5,
   "metadata": {
    "collapsed": false,
    "slideshow": {
     "slide_type": "fragment"
    }
   },
   "outputs": [
    {
     "name": "stdout",
     "output_type": "stream",
     "text": [
      "\u001b[30;42m.\u001b[00m\r\n",
      "├── config-err-CzcnSM\r\n",
      "├── \u001b[01;34mgpg-XJayDB\u001b[00m\r\n",
      "│   └── \u001b[01;35mS.gpg-agent\u001b[00m\r\n",
      "├── \u001b[01;34mhsperfdata_drocco\u001b[00m\r\n",
      "│   └── 7330\r\n",
      "├── +~JF5185591545328325661.tmp\r\n",
      "├── +~JF8060284068828458690.tmp\r\n",
      "├── +~JF837101194896593587.tmp\r\n",
      "├── +~JF868030077486781751.tmp\r\n",
      "├── +~JF8960628349556941096.tmp\r\n",
      "├── \u001b[01;34mssh-1F3gWhtsjjYY\u001b[00m\r\n",
      "│   └── \u001b[01;35magent.2630\u001b[00m\r\n",
      "├── \u001b[01;34msystemd-private-fb6a43e3efeb4c1aa8a95de5527f2b14-colord.service-XTQqPk\u001b[00m [error opening dir]\r\n",
      "├── \u001b[01;34msystemd-private-fb6a43e3efeb4c1aa8a95de5527f2b14-rtkit-daemon.service-ud8DaN\u001b[00m [error opening dir]\r\n",
      "├── tmp0q_u64\r\n",
      "├── tmp6pncvb\r\n",
      "├── tmpkjkq9i\r\n",
      "├── tmpnn_e77\r\n",
      "├── tmpnsoz3s\r\n",
      "├── tmpoahfhu\r\n",
      "├── tmppsm4wi\r\n",
      "├── tmprxnuxr\r\n",
      "├── tmpsd2bqc\r\n",
      "├── tmpw00cme\r\n",
      "└── \u001b[01;34mtmux-1000\u001b[00m\r\n",
      "    └── \u001b[01;35mdefault\u001b[00m\r\n",
      "\r\n",
      "6 directories, 20 files\r\n"
     ]
    }
   ],
   "source": [
    "!tree"
   ]
  },
  {
   "cell_type": "markdown",
   "metadata": {
    "slideshow": {
     "slide_type": "slide"
    }
   },
   "source": [
    "# Key: Work Incrementally\n",
    "\n",
    "“code a little, test a little”\n",
    "\n",
    "*even if you're not using automated testing,\n",
    " check your work often!*"
   ]
  },
  {
   "cell_type": "markdown",
   "metadata": {
    "slideshow": {
     "slide_type": "slide"
    }
   },
   "source": [
    "# Key: Work Incrementally\n",
    "\n",
    "*IPython* or *Jupyter Notebook* provide \n",
    "\n",
    "**automatic history** \n",
    "\n",
    "to review progress & backtrack if necessary"
   ]
  },
  {
   "cell_type": "markdown",
   "metadata": {
    "slideshow": {
     "slide_type": "slide"
    }
   },
   "source": [
    "# Key: Library Leverage\n",
    "\n",
    "There are *multiple high-quality tools* in the\n",
    "\n",
    "**standard library**\n",
    "\n",
    "to help complete this task"
   ]
  },
  {
   "cell_type": "code",
   "execution_count": 6,
   "metadata": {
    "collapsed": true,
    "slideshow": {
     "slide_type": "slide"
    }
   },
   "outputs": [],
   "source": [
    "def tree():\n",
    "    print('.')"
   ]
  },
  {
   "cell_type": "code",
   "execution_count": 7,
   "metadata": {
    "collapsed": false
   },
   "outputs": [
    {
     "name": "stdout",
     "output_type": "stream",
     "text": [
      ".\n"
     ]
    }
   ],
   "source": [
    "tree()"
   ]
  },
  {
   "cell_type": "code",
   "execution_count": 8,
   "metadata": {
    "collapsed": false,
    "slideshow": {
     "slide_type": "slide"
    }
   },
   "outputs": [
    {
     "data": {
      "text/plain": [
       "['config-err-CzcnSM',\n",
       " 'tmpoahfhu',\n",
       " 'tmux-1000',\n",
       " '.ICE-unix',\n",
       " 'tmp0q_u64',\n",
       " 'tmpkjkq9i',\n",
       " 'tmprxnuxr',\n",
       " '.X11-unix',\n",
       " 'ssh-1F3gWhtsjjYY',\n",
       " 'tmpnn_e77',\n",
       " 'hsperfdata_drocco',\n",
       " '.esd-112',\n",
       " '+~JF837101194896593587.tmp',\n",
       " 'systemd-private-fb6a43e3efeb4c1aa8a95de5527f2b14-colord.service-XTQqPk',\n",
       " 'gpg-XJayDB',\n",
       " 'tmppsm4wi',\n",
       " '+~JF868030077486781751.tmp',\n",
       " 'tmpw00cme',\n",
       " '+~JF5185591545328325661.tmp',\n",
       " '.org.chromium.Chromium.gWQcPK',\n",
       " '+~JF8060284068828458690.tmp',\n",
       " 'tmpsd2bqc',\n",
       " 'tmp6pncvb',\n",
       " '.font-unix',\n",
       " '.XIM-unix',\n",
       " '.X0-lock',\n",
       " 'tmpnsoz3s',\n",
       " '.Test-unix',\n",
       " '+~JF8960628349556941096.tmp',\n",
       " 'systemd-private-fb6a43e3efeb4c1aa8a95de5527f2b14-rtkit-daemon.service-ud8DaN',\n",
       " '.esd-1000']"
      ]
     },
     "execution_count": 8,
     "metadata": {},
     "output_type": "execute_result"
    }
   ],
   "source": [
    "os.listdir()"
   ]
  },
  {
   "cell_type": "code",
   "execution_count": 9,
   "metadata": {
    "collapsed": false,
    "slideshow": {
     "slide_type": "slide"
    }
   },
   "outputs": [
    {
     "data": {
      "text/plain": [
       "['config-err-CzcnSM',\n",
       " 'tmpoahfhu',\n",
       " 'tmux-1000',\n",
       " 'tmp0q_u64',\n",
       " 'tmpkjkq9i',\n",
       " 'tmprxnuxr',\n",
       " 'ssh-1F3gWhtsjjYY',\n",
       " 'tmpnn_e77',\n",
       " 'hsperfdata_drocco',\n",
       " '+~JF837101194896593587.tmp',\n",
       " 'systemd-private-fb6a43e3efeb4c1aa8a95de5527f2b14-colord.service-XTQqPk',\n",
       " 'gpg-XJayDB',\n",
       " 'tmppsm4wi',\n",
       " '+~JF868030077486781751.tmp',\n",
       " 'tmpw00cme',\n",
       " '+~JF5185591545328325661.tmp',\n",
       " '+~JF8060284068828458690.tmp',\n",
       " 'tmpsd2bqc',\n",
       " 'tmp6pncvb',\n",
       " 'tmpnsoz3s',\n",
       " '+~JF8960628349556941096.tmp',\n",
       " 'systemd-private-fb6a43e3efeb4c1aa8a95de5527f2b14-rtkit-daemon.service-ud8DaN']"
      ]
     },
     "execution_count": 9,
     "metadata": {},
     "output_type": "execute_result"
    }
   ],
   "source": [
    "import glob\n",
    "glob.glob('*')"
   ]
  },
  {
   "cell_type": "code",
   "execution_count": 10,
   "metadata": {
    "collapsed": true,
    "slideshow": {
     "slide_type": "skip"
    }
   },
   "outputs": [],
   "source": [
    "glob.glob?"
   ]
  },
  {
   "cell_type": "code",
   "execution_count": 11,
   "metadata": {
    "collapsed": true,
    "slideshow": {
     "slide_type": "slide"
    }
   },
   "outputs": [],
   "source": [
    "def tree():\n",
    "    print('.')\n",
    "    for name in glob.glob('*'):\n",
    "        print('├── ', name)"
   ]
  },
  {
   "cell_type": "code",
   "execution_count": 12,
   "metadata": {
    "collapsed": false,
    "slideshow": {
     "slide_type": "fragment"
    }
   },
   "outputs": [
    {
     "name": "stdout",
     "output_type": "stream",
     "text": [
      ".\n",
      "├──  config-err-CzcnSM\n",
      "├──  tmpoahfhu\n",
      "├──  tmux-1000\n",
      "├──  tmp0q_u64\n",
      "├──  tmpkjkq9i\n",
      "├──  tmprxnuxr\n",
      "├──  ssh-1F3gWhtsjjYY\n",
      "├──  tmpnn_e77\n",
      "├──  hsperfdata_drocco\n",
      "├──  +~JF837101194896593587.tmp\n",
      "├──  systemd-private-fb6a43e3efeb4c1aa8a95de5527f2b14-colord.service-XTQqPk\n",
      "├──  gpg-XJayDB\n",
      "├──  tmppsm4wi\n",
      "├──  +~JF868030077486781751.tmp\n",
      "├──  tmpw00cme\n",
      "├──  +~JF5185591545328325661.tmp\n",
      "├──  +~JF8060284068828458690.tmp\n",
      "├──  tmpsd2bqc\n",
      "├──  tmp6pncvb\n",
      "├──  tmpnsoz3s\n",
      "├──  +~JF8960628349556941096.tmp\n",
      "├──  systemd-private-fb6a43e3efeb4c1aa8a95de5527f2b14-rtkit-daemon.service-ud8DaN\n"
     ]
    }
   ],
   "source": [
    "tree()"
   ]
  },
  {
   "cell_type": "code",
   "execution_count": 13,
   "metadata": {
    "collapsed": true,
    "slideshow": {
     "slide_type": "slide"
    }
   },
   "outputs": [],
   "source": [
    "def tree():\n",
    "    print('.')\n",
    "    for name in sorted(glob.glob('*')):\n",
    "        print('├── ', name)"
   ]
  },
  {
   "cell_type": "code",
   "execution_count": 14,
   "metadata": {
    "collapsed": false
   },
   "outputs": [
    {
     "name": "stdout",
     "output_type": "stream",
     "text": [
      ".\n",
      "├──  +~JF5185591545328325661.tmp\n",
      "├──  +~JF8060284068828458690.tmp\n",
      "├──  +~JF837101194896593587.tmp\n",
      "├──  +~JF868030077486781751.tmp\n",
      "├──  +~JF8960628349556941096.tmp\n",
      "├──  config-err-CzcnSM\n",
      "├──  gpg-XJayDB\n",
      "├──  hsperfdata_drocco\n",
      "├──  ssh-1F3gWhtsjjYY\n",
      "├──  systemd-private-fb6a43e3efeb4c1aa8a95de5527f2b14-colord.service-XTQqPk\n",
      "├──  systemd-private-fb6a43e3efeb4c1aa8a95de5527f2b14-rtkit-daemon.service-ud8DaN\n",
      "├──  tmp0q_u64\n",
      "├──  tmp6pncvb\n",
      "├──  tmpkjkq9i\n",
      "├──  tmpnn_e77\n",
      "├──  tmpnsoz3s\n",
      "├──  tmpoahfhu\n",
      "├──  tmppsm4wi\n",
      "├──  tmprxnuxr\n",
      "├──  tmpsd2bqc\n",
      "├──  tmpw00cme\n",
      "├──  tmux-1000\n"
     ]
    }
   ],
   "source": [
    "tree()"
   ]
  },
  {
   "cell_type": "markdown",
   "metadata": {
    "slideshow": {
     "slide_type": "slide"
    }
   },
   "source": [
    "man tree\n",
    "\n",
    "*“Sort the output by name (as per ls)”*\n",
    "\n",
    "$#@%&*!"
   ]
  },
  {
   "cell_type": "markdown",
   "metadata": {
    "slideshow": {
     "slide_type": "slide"
    }
   },
   "source": [
    "man ls\n",
    "\n",
    "*scroll scroll scroll*\n",
    "\n",
    "$#@%&*!"
   ]
  },
  {
   "cell_type": "markdown",
   "metadata": {
    "slideshow": {
     "slide_type": "slide"
    }
   },
   "source": [
    "google → SO\n",
    "\n",
    "*“ls from coreutils performs a **locale-aware sort** by default…”*\n",
    "\n",
    "Ohh…"
   ]
  },
  {
   "cell_type": "markdown",
   "metadata": {
    "slideshow": {
     "slide_type": "slide"
    }
   },
   "source": [
    "google “python locale aware sort”"
   ]
  },
  {
   "cell_type": "markdown",
   "metadata": {
    "slideshow": {
     "slide_type": "slide"
    }
   },
   "source": [
    "# Python’s `locale` module\n",
    "\n",
    "> The locale module opens access to the POSIX locale database and functionality. "
   ]
  },
  {
   "cell_type": "markdown",
   "metadata": {
    "slideshow": {
     "slide_type": "slide"
    }
   },
   "source": [
    "# Python’s `locale` module\n",
    "\n",
    "> The POSIX locale mechanism allows programmers to deal with certain cultural issues in an application, without requiring the programmer to know all the specifics of each country where the software is executed."
   ]
  },
  {
   "cell_type": "markdown",
   "metadata": {
    "slideshow": {
     "slide_type": "slide"
    }
   },
   "source": [
    "# Python’s `locale` module\n",
    "\n",
    "> Applications typically start with a call of\n",
    "\n",
    "    import locale\n",
    "    locale.setlocale(locale.LC_ALL, '')\n",
    "\n",
    "> This sets the locale for all categories to the user’s default setting (typically specified in the `LANG` environment variable)."
   ]
  },
  {
   "cell_type": "markdown",
   "metadata": {
    "slideshow": {
     "slide_type": "slide"
    }
   },
   "source": [
    "# Python’s `locale` module\n",
    "\n",
    "> According to POSIX, a program which has not called `setlocale(LC_ALL, '')` runs using the portable `'C'` locale. Calling `setlocale(LC_ALL, '')` lets it use the default locale as defined by the LANG variable."
   ]
  },
  {
   "cell_type": "code",
   "execution_count": 15,
   "metadata": {
    "collapsed": true,
    "slideshow": {
     "slide_type": "skip"
    }
   },
   "outputs": [],
   "source": [
    "from locale import strxfrm"
   ]
  },
  {
   "cell_type": "code",
   "execution_count": 16,
   "metadata": {
    "collapsed": false,
    "slideshow": {
     "slide_type": "slide"
    }
   },
   "outputs": [
    {
     "data": {
      "text/plain": [
       "('en_US', 'UTF-8')"
      ]
     },
     "execution_count": 16,
     "metadata": {},
     "output_type": "execute_result"
    }
   ],
   "source": [
    "import locale\n",
    "\n",
    "locale.getlocale()"
   ]
  },
  {
   "cell_type": "code",
   "execution_count": 17,
   "metadata": {
    "collapsed": false,
    "slideshow": {
     "slide_type": "slide"
    }
   },
   "outputs": [],
   "source": [
    "locale.setlocale(locale.LC_ALL, '')\n",
    "\n",
    "def tree():\n",
    "    print('.')\n",
    "    for name in sorted(glob.glob('*'), key=locale.strxfrm):\n",
    "        print('├── ', name)"
   ]
  },
  {
   "cell_type": "code",
   "execution_count": 18,
   "metadata": {
    "collapsed": false
   },
   "outputs": [
    {
     "name": "stdout",
     "output_type": "stream",
     "text": [
      ".\n",
      "├──  config-err-CzcnSM\n",
      "├──  gpg-XJayDB\n",
      "├──  hsperfdata_drocco\n",
      "├──  +~JF5185591545328325661.tmp\n",
      "├──  +~JF8060284068828458690.tmp\n",
      "├──  +~JF837101194896593587.tmp\n",
      "├──  +~JF868030077486781751.tmp\n",
      "├──  +~JF8960628349556941096.tmp\n",
      "├──  ssh-1F3gWhtsjjYY\n",
      "├──  systemd-private-fb6a43e3efeb4c1aa8a95de5527f2b14-colord.service-XTQqPk\n",
      "├──  systemd-private-fb6a43e3efeb4c1aa8a95de5527f2b14-rtkit-daemon.service-ud8DaN\n",
      "├──  tmp0q_u64\n",
      "├──  tmp6pncvb\n",
      "├──  tmpkjkq9i\n",
      "├──  tmpnn_e77\n",
      "├──  tmpnsoz3s\n",
      "├──  tmpoahfhu\n",
      "├──  tmppsm4wi\n",
      "├──  tmprxnuxr\n",
      "├──  tmpsd2bqc\n",
      "├──  tmpw00cme\n",
      "├──  tmux-1000\n"
     ]
    }
   ],
   "source": [
    "tree()"
   ]
  },
  {
   "cell_type": "markdown",
   "metadata": {},
   "source": [
    "Hooray!"
   ]
  },
  {
   "cell_type": "markdown",
   "metadata": {
    "collapsed": false,
    "slideshow": {
     "slide_type": "slide"
    }
   },
   "source": [
    "Hang on, but I don't *like* that sort!"
   ]
  },
  {
   "cell_type": "markdown",
   "metadata": {
    "slideshow": {
     "slide_type": "slide"
    }
   },
   "source": [
    "Observe: "
   ]
  },
  {
   "cell_type": "markdown",
   "metadata": {
    "slideshow": {
     "slide_type": "fragment"
    }
   },
   "source": [
    "building `tree` *educated* you"
   ]
  },
  {
   "cell_type": "markdown",
   "metadata": {
    "collapsed": false,
    "slideshow": {
     "slide_type": "slide"
    }
   },
   "source": [
    "you understand more of how `tree` works,\n",
    "\n",
    "which means"
   ]
  },
  {
   "cell_type": "markdown",
   "metadata": {
    "collapsed": false,
    "slideshow": {
     "slide_type": "slide"
    }
   },
   "source": [
    "you can change it"
   ]
  },
  {
   "cell_type": "markdown",
   "metadata": {
    "collapsed": false,
    "slideshow": {
     "slide_type": "slide"
    }
   },
   "source": [
    "Q:\n",
    "\n",
    "*Why does* `tree` *sort this way?*"
   ]
  },
  {
   "cell_type": "markdown",
   "metadata": {
    "collapsed": false,
    "slideshow": {
     "slide_type": "slide"
    }
   },
   "source": [
    "A:\n",
    "\n",
    "`tree` *performs a locale-aware sort!*"
   ]
  },
  {
   "cell_type": "markdown",
   "metadata": {
    "collapsed": false,
    "slideshow": {
     "slide_type": "slide"
    }
   },
   "source": [
    "∴\n",
    "\n",
    "to change the sort, *change the locale!*"
   ]
  },
  {
   "cell_type": "code",
   "execution_count": 19,
   "metadata": {
    "collapsed": false,
    "slideshow": {
     "slide_type": "-"
    }
   },
   "outputs": [
    {
     "name": "stdout",
     "output_type": "stream",
     "text": [
      "\u001b[30;42m.\u001b[00m\r\n",
      "├── +~JF5185591545328325661.tmp\r\n",
      "├── +~JF8060284068828458690.tmp\r\n",
      "├── +~JF837101194896593587.tmp\r\n",
      "├── +~JF868030077486781751.tmp\r\n",
      "├── +~JF8960628349556941096.tmp\r\n",
      "├── config-err-CzcnSM\r\n",
      "├── \u001b[01;34mgpg-XJayDB\u001b[00m\r\n",
      "│   └── \u001b[01;35mS.gpg-agent\u001b[00m\r\n",
      "├── \u001b[01;34mhsperfdata_drocco\u001b[00m\r\n",
      "│   └── 7330\r\n",
      "├── \u001b[01;34mssh-1F3gWhtsjjYY\u001b[00m\r\n",
      "│   └── \u001b[01;35magent.2630\u001b[00m\r\n",
      "├── \u001b[01;34msystemd-private-fb6a43e3efeb4c1aa8a95de5527f2b14-colord.service-XTQqPk\u001b[00m [error opening dir]\r\n",
      "├── \u001b[01;34msystemd-private-fb6a43e3efeb4c1aa8a95de5527f2b14-rtkit-daemon.service-ud8DaN\u001b[00m [error opening dir]\r\n",
      "├── tmp0q_u64\r\n",
      "├── tmp6pncvb\r\n",
      "├── tmpkjkq9i\r\n",
      "├── tmpnn_e77\r\n",
      "├── tmpnsoz3s\r\n",
      "├── tmpoahfhu\r\n",
      "├── tmppsm4wi\r\n",
      "├── tmprxnuxr\r\n",
      "├── tmpsd2bqc\r\n",
      "├── tmpw00cme\r\n",
      "└── \u001b[01;34mtmux-1000\u001b[00m\r\n",
      "    └── \u001b[01;35mdefault\u001b[00m\r\n",
      "\r\n",
      "6 directories, 20 files\r\n"
     ]
    }
   ],
   "source": [
    "!LC_COLLATE=C tree"
   ]
  },
  {
   "cell_type": "code",
   "execution_count": 20,
   "metadata": {
    "collapsed": false,
    "slideshow": {
     "slide_type": "slide"
    }
   },
   "outputs": [],
   "source": [
    "locale.setlocale(locale.LC_ALL, '')\n",
    "\n",
    "def tree():\n",
    "    print('.')\n",
    "\n",
    "    names = sorted(glob.glob('*'), key=locale.strxfrm)\n",
    "    \n",
    "    for name in names[:-1]:\n",
    "        print('├── ', name)\n",
    "    else:\n",
    "        print('└── ', names[-1])\n",
    "    "
   ]
  },
  {
   "cell_type": "code",
   "execution_count": 21,
   "metadata": {
    "collapsed": false
   },
   "outputs": [
    {
     "name": "stdout",
     "output_type": "stream",
     "text": [
      ".\n",
      "├──  config-err-CzcnSM\n",
      "├──  gpg-XJayDB\n",
      "├──  hsperfdata_drocco\n",
      "├──  +~JF5185591545328325661.tmp\n",
      "├──  +~JF8060284068828458690.tmp\n",
      "├──  +~JF837101194896593587.tmp\n",
      "├──  +~JF868030077486781751.tmp\n",
      "├──  +~JF8960628349556941096.tmp\n",
      "├──  ssh-1F3gWhtsjjYY\n",
      "├──  systemd-private-fb6a43e3efeb4c1aa8a95de5527f2b14-colord.service-XTQqPk\n",
      "├──  systemd-private-fb6a43e3efeb4c1aa8a95de5527f2b14-rtkit-daemon.service-ud8DaN\n",
      "├──  tmp0q_u64\n",
      "├──  tmp6pncvb\n",
      "├──  tmpkjkq9i\n",
      "├──  tmpnn_e77\n",
      "├──  tmpnsoz3s\n",
      "├──  tmpoahfhu\n",
      "├──  tmppsm4wi\n",
      "├──  tmprxnuxr\n",
      "├──  tmpsd2bqc\n",
      "├──  tmpw00cme\n",
      "└──  tmux-1000\n"
     ]
    }
   ],
   "source": [
    "tree()"
   ]
  },
  {
   "cell_type": "code",
   "execution_count": null,
   "metadata": {
    "collapsed": true
   },
   "outputs": [],
   "source": []
  },
  {
   "cell_type": "code",
   "execution_count": 22,
   "metadata": {
    "collapsed": false
   },
   "outputs": [],
   "source": [
    "locale.setlocale(locale.LC_ALL, '')\n",
    "\n",
    "def print_node(prefix, name):\n",
    "    print(prefix, name)\n",
    "    \n",
    "def tree(root='.'):\n",
    "    print(root)\n",
    "\n",
    "    names = sorted(glob.glob('*'), key=locale.strxfrm)\n",
    "    \n",
    "    for name in names[:-1]:\n",
    "        print_node('├── ', name)\n",
    "    else:\n",
    "        print_node('└── ', names[-1])\n",
    "    "
   ]
  },
  {
   "cell_type": "code",
   "execution_count": 23,
   "metadata": {
    "collapsed": false
   },
   "outputs": [
    {
     "name": "stdout",
     "output_type": "stream",
     "text": [
      ".\n",
      "├──  config-err-CzcnSM\n",
      "├──  gpg-XJayDB\n",
      "├──  hsperfdata_drocco\n",
      "├──  +~JF5185591545328325661.tmp\n",
      "├──  +~JF8060284068828458690.tmp\n",
      "├──  +~JF837101194896593587.tmp\n",
      "├──  +~JF868030077486781751.tmp\n",
      "├──  +~JF8960628349556941096.tmp\n",
      "├──  ssh-1F3gWhtsjjYY\n",
      "├──  systemd-private-fb6a43e3efeb4c1aa8a95de5527f2b14-colord.service-XTQqPk\n",
      "├──  systemd-private-fb6a43e3efeb4c1aa8a95de5527f2b14-rtkit-daemon.service-ud8DaN\n",
      "├──  tmp0q_u64\n",
      "├──  tmp6pncvb\n",
      "├──  tmpkjkq9i\n",
      "├──  tmpnn_e77\n",
      "├──  tmpnsoz3s\n",
      "├──  tmpoahfhu\n",
      "├──  tmppsm4wi\n",
      "├──  tmprxnuxr\n",
      "├──  tmpsd2bqc\n",
      "├──  tmpw00cme\n",
      "└──  tmux-1000\n"
     ]
    }
   ],
   "source": [
    "tree()"
   ]
  },
  {
   "cell_type": "code",
   "execution_count": 24,
   "metadata": {
    "collapsed": false
   },
   "outputs": [],
   "source": [
    "locale.setlocale(locale.LC_ALL, '')\n",
    "\n",
    "\n",
    "def visit_node(root, prefix, name):\n",
    "    print(prefix, name)\n",
    "    \n",
    "    if os.path.isdir(name):\n",
    "        tree(os.path.join(root, name))\n",
    "\n",
    "\n",
    "def tree(root='.'):\n",
    "    print(root)\n",
    "\n",
    "    names = sorted(glob.glob('*'), key=locale.strxfrm)\n",
    "    \n",
    "    for name in names[:-1]:\n",
    "        visit_node(root, '├── ', name)\n",
    "    else:\n",
    "        visit_node(root, '└── ', names[-1])\n",
    "    "
   ]
  },
  {
   "cell_type": "code",
   "execution_count": 25,
   "metadata": {
    "collapsed": false
   },
   "outputs": [],
   "source": [
    "locale.setlocale(locale.LC_ALL, '')\n",
    "\n",
    "\n",
    "def visit_node(root, prefix, name):\n",
    "    print(prefix, name)\n",
    "    \n",
    "    if os.path.isdir(name):\n",
    "        tree(os.path.join(root, name))\n",
    "\n",
    "\n",
    "def tree(root='.'):\n",
    "    print(root)\n",
    "\n",
    "    pattern = os.path.join(root, '*')\n",
    "    names = sorted(glob.glob(pattern), key=locale.strxfrm)\n",
    "    \n",
    "    for name in names[:-1]:\n",
    "        visit_node(root, '├──', name)\n",
    "    else:\n",
    "        visit_node(root, '└──', names[-1])\n"
   ]
  },
  {
   "cell_type": "code",
   "execution_count": 26,
   "metadata": {
    "collapsed": false
   },
   "outputs": [
    {
     "name": "stdout",
     "output_type": "stream",
     "text": [
      ".\n",
      "├── ./config-err-CzcnSM\n",
      "├── ./gpg-XJayDB\n",
      "././gpg-XJayDB\n",
      "└── ././gpg-XJayDB/S.gpg-agent\n",
      "├── ./hsperfdata_drocco\n",
      "././hsperfdata_drocco\n",
      "└── ././hsperfdata_drocco/7330\n",
      "├── ./+~JF5185591545328325661.tmp\n",
      "├── ./+~JF8060284068828458690.tmp\n",
      "├── ./+~JF837101194896593587.tmp\n",
      "├── ./+~JF868030077486781751.tmp\n",
      "├── ./+~JF8960628349556941096.tmp\n",
      "├── ./ssh-1F3gWhtsjjYY\n",
      "././ssh-1F3gWhtsjjYY\n",
      "└── ././ssh-1F3gWhtsjjYY/agent.2630\n",
      "├── ./systemd-private-fb6a43e3efeb4c1aa8a95de5527f2b14-colord.service-XTQqPk\n",
      "././systemd-private-fb6a43e3efeb4c1aa8a95de5527f2b14-colord.service-XTQqPk\n"
     ]
    },
    {
     "ename": "IndexError",
     "evalue": "list index out of range",
     "output_type": "error",
     "traceback": [
      "\u001b[1;31m---------------------------------------------------------------------------\u001b[0m",
      "\u001b[1;31mIndexError\u001b[0m                                Traceback (most recent call last)",
      "\u001b[1;32m<ipython-input-26-94d1938bfc02>\u001b[0m in \u001b[0;36m<module>\u001b[1;34m()\u001b[0m\n\u001b[1;32m----> 1\u001b[1;33m \u001b[0mtree\u001b[0m\u001b[1;33m(\u001b[0m\u001b[1;33m)\u001b[0m\u001b[1;33m\u001b[0m\u001b[0m\n\u001b[0m",
      "\u001b[1;32m<ipython-input-25-f98d494cb3c6>\u001b[0m in \u001b[0;36mtree\u001b[1;34m(root)\u001b[0m\n\u001b[0;32m     16\u001b[0m \u001b[1;33m\u001b[0m\u001b[0m\n\u001b[0;32m     17\u001b[0m     \u001b[1;32mfor\u001b[0m \u001b[0mname\u001b[0m \u001b[1;32min\u001b[0m \u001b[0mnames\u001b[0m\u001b[1;33m[\u001b[0m\u001b[1;33m:\u001b[0m\u001b[1;33m-\u001b[0m\u001b[1;36m1\u001b[0m\u001b[1;33m]\u001b[0m\u001b[1;33m:\u001b[0m\u001b[1;33m\u001b[0m\u001b[0m\n\u001b[1;32m---> 18\u001b[1;33m         \u001b[0mvisit_node\u001b[0m\u001b[1;33m(\u001b[0m\u001b[0mroot\u001b[0m\u001b[1;33m,\u001b[0m \u001b[1;34m'├──'\u001b[0m\u001b[1;33m,\u001b[0m \u001b[0mname\u001b[0m\u001b[1;33m)\u001b[0m\u001b[1;33m\u001b[0m\u001b[0m\n\u001b[0m\u001b[0;32m     19\u001b[0m     \u001b[1;32melse\u001b[0m\u001b[1;33m:\u001b[0m\u001b[1;33m\u001b[0m\u001b[0m\n\u001b[0;32m     20\u001b[0m         \u001b[0mvisit_node\u001b[0m\u001b[1;33m(\u001b[0m\u001b[0mroot\u001b[0m\u001b[1;33m,\u001b[0m \u001b[1;34m'└──'\u001b[0m\u001b[1;33m,\u001b[0m \u001b[0mnames\u001b[0m\u001b[1;33m[\u001b[0m\u001b[1;33m-\u001b[0m\u001b[1;36m1\u001b[0m\u001b[1;33m]\u001b[0m\u001b[1;33m)\u001b[0m\u001b[1;33m\u001b[0m\u001b[0m\n",
      "\u001b[1;32m<ipython-input-25-f98d494cb3c6>\u001b[0m in \u001b[0;36mvisit_node\u001b[1;34m(root, prefix, name)\u001b[0m\n\u001b[0;32m      6\u001b[0m \u001b[1;33m\u001b[0m\u001b[0m\n\u001b[0;32m      7\u001b[0m     \u001b[1;32mif\u001b[0m \u001b[0mos\u001b[0m\u001b[1;33m.\u001b[0m\u001b[0mpath\u001b[0m\u001b[1;33m.\u001b[0m\u001b[0misdir\u001b[0m\u001b[1;33m(\u001b[0m\u001b[0mname\u001b[0m\u001b[1;33m)\u001b[0m\u001b[1;33m:\u001b[0m\u001b[1;33m\u001b[0m\u001b[0m\n\u001b[1;32m----> 8\u001b[1;33m         \u001b[0mtree\u001b[0m\u001b[1;33m(\u001b[0m\u001b[0mos\u001b[0m\u001b[1;33m.\u001b[0m\u001b[0mpath\u001b[0m\u001b[1;33m.\u001b[0m\u001b[0mjoin\u001b[0m\u001b[1;33m(\u001b[0m\u001b[0mroot\u001b[0m\u001b[1;33m,\u001b[0m \u001b[0mname\u001b[0m\u001b[1;33m)\u001b[0m\u001b[1;33m)\u001b[0m\u001b[1;33m\u001b[0m\u001b[0m\n\u001b[0m\u001b[0;32m      9\u001b[0m \u001b[1;33m\u001b[0m\u001b[0m\n\u001b[0;32m     10\u001b[0m \u001b[1;33m\u001b[0m\u001b[0m\n",
      "\u001b[1;32m<ipython-input-25-f98d494cb3c6>\u001b[0m in \u001b[0;36mtree\u001b[1;34m(root)\u001b[0m\n\u001b[0;32m     18\u001b[0m         \u001b[0mvisit_node\u001b[0m\u001b[1;33m(\u001b[0m\u001b[0mroot\u001b[0m\u001b[1;33m,\u001b[0m \u001b[1;34m'├──'\u001b[0m\u001b[1;33m,\u001b[0m \u001b[0mname\u001b[0m\u001b[1;33m)\u001b[0m\u001b[1;33m\u001b[0m\u001b[0m\n\u001b[0;32m     19\u001b[0m     \u001b[1;32melse\u001b[0m\u001b[1;33m:\u001b[0m\u001b[1;33m\u001b[0m\u001b[0m\n\u001b[1;32m---> 20\u001b[1;33m         \u001b[0mvisit_node\u001b[0m\u001b[1;33m(\u001b[0m\u001b[0mroot\u001b[0m\u001b[1;33m,\u001b[0m \u001b[1;34m'└──'\u001b[0m\u001b[1;33m,\u001b[0m \u001b[0mnames\u001b[0m\u001b[1;33m[\u001b[0m\u001b[1;33m-\u001b[0m\u001b[1;36m1\u001b[0m\u001b[1;33m]\u001b[0m\u001b[1;33m)\u001b[0m\u001b[1;33m\u001b[0m\u001b[0m\n\u001b[0m",
      "\u001b[1;31mIndexError\u001b[0m: list index out of range"
     ]
    }
   ],
   "source": [
    "tree()"
   ]
  },
  {
   "cell_type": "code",
   "execution_count": 27,
   "metadata": {
    "collapsed": false
   },
   "outputs": [],
   "source": [
    "locale.setlocale(locale.LC_ALL, '')\n",
    "\n",
    "\n",
    "def visit_node(root, prefix, name):\n",
    "    print(prefix, os.path.basename(name))\n",
    "    \n",
    "    if os.path.isdir(name):\n",
    "        tree(os.path.join(root, name))\n",
    "\n",
    "\n",
    "def tree(root='.'):\n",
    "    print(root)\n",
    "\n",
    "    pattern = os.path.join(root, '*')\n",
    "    names = sorted(glob.glob(pattern), key=locale.strxfrm)\n",
    "    \n",
    "    for name in names[:-1]:\n",
    "        visit_node(root, '├──', name)\n",
    "    else:\n",
    "        visit_node(root, '└──', names[-1])\n"
   ]
  },
  {
   "cell_type": "code",
   "execution_count": 28,
   "metadata": {
    "collapsed": false
   },
   "outputs": [
    {
     "name": "stdout",
     "output_type": "stream",
     "text": [
      ".\n",
      "├── config-err-CzcnSM\n",
      "├── gpg-XJayDB\n",
      "././gpg-XJayDB\n",
      "└── S.gpg-agent\n",
      "├── hsperfdata_drocco\n",
      "././hsperfdata_drocco\n",
      "└── 7330\n",
      "├── +~JF5185591545328325661.tmp\n",
      "├── +~JF8060284068828458690.tmp\n",
      "├── +~JF837101194896593587.tmp\n",
      "├── +~JF868030077486781751.tmp\n",
      "├── +~JF8960628349556941096.tmp\n",
      "├── ssh-1F3gWhtsjjYY\n",
      "././ssh-1F3gWhtsjjYY\n",
      "└── agent.2630\n",
      "├── systemd-private-fb6a43e3efeb4c1aa8a95de5527f2b14-colord.service-XTQqPk\n",
      "././systemd-private-fb6a43e3efeb4c1aa8a95de5527f2b14-colord.service-XTQqPk\n"
     ]
    },
    {
     "ename": "IndexError",
     "evalue": "list index out of range",
     "output_type": "error",
     "traceback": [
      "\u001b[1;31m---------------------------------------------------------------------------\u001b[0m",
      "\u001b[1;31mIndexError\u001b[0m                                Traceback (most recent call last)",
      "\u001b[1;32m<ipython-input-28-94d1938bfc02>\u001b[0m in \u001b[0;36m<module>\u001b[1;34m()\u001b[0m\n\u001b[1;32m----> 1\u001b[1;33m \u001b[0mtree\u001b[0m\u001b[1;33m(\u001b[0m\u001b[1;33m)\u001b[0m\u001b[1;33m\u001b[0m\u001b[0m\n\u001b[0m",
      "\u001b[1;32m<ipython-input-27-46bac4615f0b>\u001b[0m in \u001b[0;36mtree\u001b[1;34m(root)\u001b[0m\n\u001b[0;32m     16\u001b[0m \u001b[1;33m\u001b[0m\u001b[0m\n\u001b[0;32m     17\u001b[0m     \u001b[1;32mfor\u001b[0m \u001b[0mname\u001b[0m \u001b[1;32min\u001b[0m \u001b[0mnames\u001b[0m\u001b[1;33m[\u001b[0m\u001b[1;33m:\u001b[0m\u001b[1;33m-\u001b[0m\u001b[1;36m1\u001b[0m\u001b[1;33m]\u001b[0m\u001b[1;33m:\u001b[0m\u001b[1;33m\u001b[0m\u001b[0m\n\u001b[1;32m---> 18\u001b[1;33m         \u001b[0mvisit_node\u001b[0m\u001b[1;33m(\u001b[0m\u001b[0mroot\u001b[0m\u001b[1;33m,\u001b[0m \u001b[1;34m'├──'\u001b[0m\u001b[1;33m,\u001b[0m \u001b[0mname\u001b[0m\u001b[1;33m)\u001b[0m\u001b[1;33m\u001b[0m\u001b[0m\n\u001b[0m\u001b[0;32m     19\u001b[0m     \u001b[1;32melse\u001b[0m\u001b[1;33m:\u001b[0m\u001b[1;33m\u001b[0m\u001b[0m\n\u001b[0;32m     20\u001b[0m         \u001b[0mvisit_node\u001b[0m\u001b[1;33m(\u001b[0m\u001b[0mroot\u001b[0m\u001b[1;33m,\u001b[0m \u001b[1;34m'└──'\u001b[0m\u001b[1;33m,\u001b[0m \u001b[0mnames\u001b[0m\u001b[1;33m[\u001b[0m\u001b[1;33m-\u001b[0m\u001b[1;36m1\u001b[0m\u001b[1;33m]\u001b[0m\u001b[1;33m)\u001b[0m\u001b[1;33m\u001b[0m\u001b[0m\n",
      "\u001b[1;32m<ipython-input-27-46bac4615f0b>\u001b[0m in \u001b[0;36mvisit_node\u001b[1;34m(root, prefix, name)\u001b[0m\n\u001b[0;32m      6\u001b[0m \u001b[1;33m\u001b[0m\u001b[0m\n\u001b[0;32m      7\u001b[0m     \u001b[1;32mif\u001b[0m \u001b[0mos\u001b[0m\u001b[1;33m.\u001b[0m\u001b[0mpath\u001b[0m\u001b[1;33m.\u001b[0m\u001b[0misdir\u001b[0m\u001b[1;33m(\u001b[0m\u001b[0mname\u001b[0m\u001b[1;33m)\u001b[0m\u001b[1;33m:\u001b[0m\u001b[1;33m\u001b[0m\u001b[0m\n\u001b[1;32m----> 8\u001b[1;33m         \u001b[0mtree\u001b[0m\u001b[1;33m(\u001b[0m\u001b[0mos\u001b[0m\u001b[1;33m.\u001b[0m\u001b[0mpath\u001b[0m\u001b[1;33m.\u001b[0m\u001b[0mjoin\u001b[0m\u001b[1;33m(\u001b[0m\u001b[0mroot\u001b[0m\u001b[1;33m,\u001b[0m \u001b[0mname\u001b[0m\u001b[1;33m)\u001b[0m\u001b[1;33m)\u001b[0m\u001b[1;33m\u001b[0m\u001b[0m\n\u001b[0m\u001b[0;32m      9\u001b[0m \u001b[1;33m\u001b[0m\u001b[0m\n\u001b[0;32m     10\u001b[0m \u001b[1;33m\u001b[0m\u001b[0m\n",
      "\u001b[1;32m<ipython-input-27-46bac4615f0b>\u001b[0m in \u001b[0;36mtree\u001b[1;34m(root)\u001b[0m\n\u001b[0;32m     18\u001b[0m         \u001b[0mvisit_node\u001b[0m\u001b[1;33m(\u001b[0m\u001b[0mroot\u001b[0m\u001b[1;33m,\u001b[0m \u001b[1;34m'├──'\u001b[0m\u001b[1;33m,\u001b[0m \u001b[0mname\u001b[0m\u001b[1;33m)\u001b[0m\u001b[1;33m\u001b[0m\u001b[0m\n\u001b[0;32m     19\u001b[0m     \u001b[1;32melse\u001b[0m\u001b[1;33m:\u001b[0m\u001b[1;33m\u001b[0m\u001b[0m\n\u001b[1;32m---> 20\u001b[1;33m         \u001b[0mvisit_node\u001b[0m\u001b[1;33m(\u001b[0m\u001b[0mroot\u001b[0m\u001b[1;33m,\u001b[0m \u001b[1;34m'└──'\u001b[0m\u001b[1;33m,\u001b[0m \u001b[0mnames\u001b[0m\u001b[1;33m[\u001b[0m\u001b[1;33m-\u001b[0m\u001b[1;36m1\u001b[0m\u001b[1;33m]\u001b[0m\u001b[1;33m)\u001b[0m\u001b[1;33m\u001b[0m\u001b[0m\n\u001b[0m",
      "\u001b[1;31mIndexError\u001b[0m: list index out of range"
     ]
    }
   ],
   "source": [
    "tree()"
   ]
  },
  {
   "cell_type": "code",
   "execution_count": 29,
   "metadata": {
    "collapsed": false
   },
   "outputs": [],
   "source": [
    "locale.setlocale(locale.LC_ALL, '')\n",
    "\n",
    "\n",
    "def visit_node(root, prefix, name):\n",
    "    print(prefix, os.path.basename(name))\n",
    "    \n",
    "    if os.path.isdir(name):\n",
    "        tree(os.path.join(root, name))\n",
    "\n",
    "\n",
    "def tree(root='.'):\n",
    "#     print(root)\n",
    "\n",
    "    pattern = os.path.join(root, '*')\n",
    "    names = sorted(glob.glob(pattern), key=locale.strxfrm)\n",
    "    \n",
    "    for name in names[:-1]:\n",
    "        visit_node(root, '├──', name)\n",
    "    \n",
    "    if names:\n",
    "        visit_node(root, '└──', names[-1])\n",
    "    "
   ]
  },
  {
   "cell_type": "code",
   "execution_count": 30,
   "metadata": {
    "collapsed": false
   },
   "outputs": [
    {
     "name": "stdout",
     "output_type": "stream",
     "text": [
      "├── config-err-CzcnSM\n",
      "├── gpg-XJayDB\n",
      "└── S.gpg-agent\n",
      "├── hsperfdata_drocco\n",
      "└── 7330\n",
      "├── +~JF5185591545328325661.tmp\n",
      "├── +~JF8060284068828458690.tmp\n",
      "├── +~JF837101194896593587.tmp\n",
      "├── +~JF868030077486781751.tmp\n",
      "├── +~JF8960628349556941096.tmp\n",
      "├── ssh-1F3gWhtsjjYY\n",
      "└── agent.2630\n",
      "├── systemd-private-fb6a43e3efeb4c1aa8a95de5527f2b14-colord.service-XTQqPk\n",
      "├── systemd-private-fb6a43e3efeb4c1aa8a95de5527f2b14-rtkit-daemon.service-ud8DaN\n",
      "├── tmp0q_u64\n",
      "├── tmp6pncvb\n",
      "├── tmpkjkq9i\n",
      "├── tmpnn_e77\n",
      "├── tmpnsoz3s\n",
      "├── tmpoahfhu\n",
      "├── tmppsm4wi\n",
      "├── tmprxnuxr\n",
      "├── tmpsd2bqc\n",
      "├── tmpw00cme\n",
      "└── tmux-1000\n",
      "└── default\n"
     ]
    }
   ],
   "source": [
    "tree()"
   ]
  },
  {
   "cell_type": "code",
   "execution_count": 31,
   "metadata": {
    "collapsed": false
   },
   "outputs": [],
   "source": [
    "locale.setlocale(locale.LC_ALL, '')\n",
    "\n",
    "\n",
    "def visit_node(root, prefix, name):\n",
    "    print(prefix, os.path.basename(name))\n",
    "    \n",
    "    if os.path.isdir(name):\n",
    "        tree(os.path.join(root, name), prefix='│   ')\n",
    "\n",
    "\n",
    "def tree(root='.', prefix=''):\n",
    "#     print(root)\n",
    "\n",
    "    pattern = os.path.join(root, '*')\n",
    "    names = sorted(glob.glob(pattern), key=locale.strxfrm)\n",
    "    \n",
    "    for name in names[:-1]:\n",
    "        visit_node(root, prefix + '├──', name)\n",
    "    \n",
    "    if names:\n",
    "        visit_node(root, prefix + '└──', names[-1])\n",
    "    "
   ]
  },
  {
   "cell_type": "code",
   "execution_count": 32,
   "metadata": {
    "collapsed": false
   },
   "outputs": [
    {
     "name": "stdout",
     "output_type": "stream",
     "text": [
      "├── config-err-CzcnSM\n",
      "├── gpg-XJayDB\n",
      "│   └── S.gpg-agent\n",
      "├── hsperfdata_drocco\n",
      "│   └── 7330\n",
      "├── +~JF5185591545328325661.tmp\n",
      "├── +~JF8060284068828458690.tmp\n",
      "├── +~JF837101194896593587.tmp\n",
      "├── +~JF868030077486781751.tmp\n",
      "├── +~JF8960628349556941096.tmp\n",
      "├── ssh-1F3gWhtsjjYY\n",
      "│   └── agent.2630\n",
      "├── systemd-private-fb6a43e3efeb4c1aa8a95de5527f2b14-colord.service-XTQqPk\n",
      "├── systemd-private-fb6a43e3efeb4c1aa8a95de5527f2b14-rtkit-daemon.service-ud8DaN\n",
      "├── tmp0q_u64\n",
      "├── tmp6pncvb\n",
      "├── tmpkjkq9i\n",
      "├── tmpnn_e77\n",
      "├── tmpnsoz3s\n",
      "├── tmpoahfhu\n",
      "├── tmppsm4wi\n",
      "├── tmprxnuxr\n",
      "├── tmpsd2bqc\n",
      "├── tmpw00cme\n",
      "└── tmux-1000\n",
      "│   └── default\n"
     ]
    }
   ],
   "source": [
    "tree()"
   ]
  },
  {
   "cell_type": "code",
   "execution_count": 33,
   "metadata": {
    "collapsed": false
   },
   "outputs": [
    {
     "name": "stdout",
     "output_type": "stream",
     "text": [
      "\u001b[30;42m.\u001b[00m\r\n",
      "├── config-err-CzcnSM\r\n",
      "├── \u001b[01;34mfoo\u001b[00m\r\n",
      "│   ├── \u001b[01;34mbar\u001b[00m\r\n",
      "│   │   ├── \u001b[01;34mbaz\u001b[00m\r\n",
      "│   │   │   └── \u001b[01;34mbiff\u001b[00m\r\n",
      "│   │   └── snurgle.txt\r\n",
      "│   └── boff.log\r\n",
      "├── \u001b[01;34mgpg-XJayDB\u001b[00m\r\n",
      "│   └── \u001b[01;35mS.gpg-agent\u001b[00m\r\n",
      "├── \u001b[01;34mhsperfdata_drocco\u001b[00m\r\n",
      "│   └── 7330\r\n",
      "├── +~JF5185591545328325661.tmp\r\n",
      "├── +~JF8060284068828458690.tmp\r\n",
      "├── +~JF837101194896593587.tmp\r\n",
      "├── +~JF868030077486781751.tmp\r\n",
      "├── +~JF8960628349556941096.tmp\r\n",
      "├── \u001b[01;34mssh-1F3gWhtsjjYY\u001b[00m\r\n",
      "│   └── \u001b[01;35magent.2630\u001b[00m\r\n",
      "├── \u001b[01;34msystemd-private-fb6a43e3efeb4c1aa8a95de5527f2b14-colord.service-XTQqPk\u001b[00m [error opening dir]\r\n",
      "├── \u001b[01;34msystemd-private-fb6a43e3efeb4c1aa8a95de5527f2b14-rtkit-daemon.service-ud8DaN\u001b[00m [error opening dir]\r\n",
      "├── tmp0q_u64\r\n",
      "├── tmp6pncvb\r\n",
      "├── tmpkjkq9i\r\n",
      "├── tmpnn_e77\r\n",
      "├── tmpnsoz3s\r\n",
      "├── tmpoahfhu\r\n",
      "├── tmppsm4wi\r\n",
      "├── tmprxnuxr\r\n",
      "├── tmpsd2bqc\r\n",
      "├── tmpw00cme\r\n",
      "└── \u001b[01;34mtmux-1000\u001b[00m\r\n",
      "    └── \u001b[01;35mdefault\u001b[00m\r\n",
      "\r\n",
      "10 directories, 22 files\r\n"
     ]
    }
   ],
   "source": [
    "!mkdir -p foo/bar/baz/biff\n",
    "!touch foo/boff.log foo/bar/snurgle.txt\n",
    "!tree"
   ]
  },
  {
   "cell_type": "code",
   "execution_count": 34,
   "metadata": {
    "collapsed": false
   },
   "outputs": [
    {
     "name": "stdout",
     "output_type": "stream",
     "text": [
      "├── config-err-CzcnSM\n",
      "├── foo\n",
      "│   ├── bar\n",
      "│   └── boff.log\n",
      "├── gpg-XJayDB\n",
      "│   └── S.gpg-agent\n",
      "├── hsperfdata_drocco\n",
      "│   └── 7330\n",
      "├── +~JF5185591545328325661.tmp\n",
      "├── +~JF8060284068828458690.tmp\n",
      "├── +~JF837101194896593587.tmp\n",
      "├── +~JF868030077486781751.tmp\n",
      "├── +~JF8960628349556941096.tmp\n",
      "├── ssh-1F3gWhtsjjYY\n",
      "│   └── agent.2630\n",
      "├── systemd-private-fb6a43e3efeb4c1aa8a95de5527f2b14-colord.service-XTQqPk\n",
      "├── systemd-private-fb6a43e3efeb4c1aa8a95de5527f2b14-rtkit-daemon.service-ud8DaN\n",
      "├── tmp0q_u64\n",
      "├── tmp6pncvb\n",
      "├── tmpkjkq9i\n",
      "├── tmpnn_e77\n",
      "├── tmpnsoz3s\n",
      "├── tmpoahfhu\n",
      "├── tmppsm4wi\n",
      "├── tmprxnuxr\n",
      "├── tmpsd2bqc\n",
      "├── tmpw00cme\n",
      "└── tmux-1000\n",
      "│   └── default\n"
     ]
    }
   ],
   "source": [
    "tree()"
   ]
  },
  {
   "cell_type": "code",
   "execution_count": 35,
   "metadata": {
    "collapsed": false
   },
   "outputs": [],
   "source": [
    "locale.setlocale(locale.LC_ALL, '')\n",
    "\n",
    "\n",
    "def visit_node(root, prefix, name):\n",
    "    print(prefix, name)\n",
    "    \n",
    "    if os.path.isdir(name):\n",
    "        print(os.path.join(root, name))\n",
    "        tree(os.path.join(root, name), prefix='│   ')\n",
    "\n",
    "\n",
    "def tree(root='', prefix=''):\n",
    "#     print(root)\n",
    "\n",
    "    pattern = os.path.join(root, '*')\n",
    "    names = sorted(glob.glob(pattern), key=locale.strxfrm)\n",
    "    \n",
    "    for name in names[:-1]:\n",
    "        visit_node(root, prefix + '├──', name)\n",
    "    \n",
    "    if names:\n",
    "        visit_node(root, prefix + '└──', names[-1])\n",
    "    "
   ]
  },
  {
   "cell_type": "code",
   "execution_count": 36,
   "metadata": {
    "collapsed": false
   },
   "outputs": [
    {
     "name": "stdout",
     "output_type": "stream",
     "text": [
      "├── config-err-CzcnSM\n",
      "├── foo\n",
      "foo\n",
      "│   ├── foo/bar\n",
      "foo/foo/bar\n",
      "│   └── foo/boff.log\n",
      "├── gpg-XJayDB\n",
      "gpg-XJayDB\n",
      "│   └── gpg-XJayDB/S.gpg-agent\n",
      "├── hsperfdata_drocco\n",
      "hsperfdata_drocco\n",
      "│   └── hsperfdata_drocco/7330\n",
      "├── +~JF5185591545328325661.tmp\n",
      "├── +~JF8060284068828458690.tmp\n",
      "├── +~JF837101194896593587.tmp\n",
      "├── +~JF868030077486781751.tmp\n",
      "├── +~JF8960628349556941096.tmp\n",
      "├── ssh-1F3gWhtsjjYY\n",
      "ssh-1F3gWhtsjjYY\n",
      "│   └── ssh-1F3gWhtsjjYY/agent.2630\n",
      "├── systemd-private-fb6a43e3efeb4c1aa8a95de5527f2b14-colord.service-XTQqPk\n",
      "systemd-private-fb6a43e3efeb4c1aa8a95de5527f2b14-colord.service-XTQqPk\n",
      "├── systemd-private-fb6a43e3efeb4c1aa8a95de5527f2b14-rtkit-daemon.service-ud8DaN\n",
      "systemd-private-fb6a43e3efeb4c1aa8a95de5527f2b14-rtkit-daemon.service-ud8DaN\n",
      "├── tmp0q_u64\n",
      "├── tmp6pncvb\n",
      "├── tmpkjkq9i\n",
      "├── tmpnn_e77\n",
      "├── tmpnsoz3s\n",
      "├── tmpoahfhu\n",
      "├── tmppsm4wi\n",
      "├── tmprxnuxr\n",
      "├── tmpsd2bqc\n",
      "├── tmpw00cme\n",
      "└── tmux-1000\n",
      "tmux-1000\n",
      "│   └── tmux-1000/default\n"
     ]
    }
   ],
   "source": [
    "tree()"
   ]
  },
  {
   "cell_type": "code",
   "execution_count": 37,
   "metadata": {
    "collapsed": false
   },
   "outputs": [],
   "source": [
    "locale.setlocale(locale.LC_ALL, '')\n",
    "\n",
    "\n",
    "def visit_node(name, depth=0):\n",
    "    prefix = '|    ' * depth\n",
    "    print(prefix, os.path.basename(name), sep='')\n",
    "    \n",
    "    if os.path.isdir(name):\n",
    "        tree(name, depth=depth + 1)\n",
    "\n",
    "\n",
    "def tree(root='', depth=0):\n",
    "#     print(root)\n",
    "\n",
    "    pattern = os.path.join(root, '*')\n",
    "    names = sorted(glob.glob(pattern), key=locale.strxfrm)\n",
    "    \n",
    "    for name in names[:-1]:\n",
    "        visit_node(name, depth)\n",
    "    \n",
    "    if names:\n",
    "        visit_node(names[-1], depth)\n",
    "    "
   ]
  },
  {
   "cell_type": "code",
   "execution_count": 38,
   "metadata": {
    "collapsed": false
   },
   "outputs": [
    {
     "name": "stdout",
     "output_type": "stream",
     "text": [
      "config-err-CzcnSM\n",
      "foo\n",
      "|    bar\n",
      "|    |    baz\n",
      "|    |    |    biff\n",
      "|    |    snurgle.txt\n",
      "|    boff.log\n",
      "gpg-XJayDB\n",
      "|    S.gpg-agent\n",
      "hsperfdata_drocco\n",
      "|    7330\n",
      "+~JF5185591545328325661.tmp\n",
      "+~JF8060284068828458690.tmp\n",
      "+~JF837101194896593587.tmp\n",
      "+~JF868030077486781751.tmp\n",
      "+~JF8960628349556941096.tmp\n",
      "ssh-1F3gWhtsjjYY\n",
      "|    agent.2630\n",
      "systemd-private-fb6a43e3efeb4c1aa8a95de5527f2b14-colord.service-XTQqPk\n",
      "systemd-private-fb6a43e3efeb4c1aa8a95de5527f2b14-rtkit-daemon.service-ud8DaN\n",
      "tmp0q_u64\n",
      "tmp6pncvb\n",
      "tmpkjkq9i\n",
      "tmpnn_e77\n",
      "tmpnsoz3s\n",
      "tmpoahfhu\n",
      "tmppsm4wi\n",
      "tmprxnuxr\n",
      "tmpsd2bqc\n",
      "tmpw00cme\n",
      "tmux-1000\n",
      "|    default\n"
     ]
    }
   ],
   "source": [
    "tree()"
   ]
  },
  {
   "cell_type": "code",
   "execution_count": 39,
   "metadata": {
    "collapsed": false
   },
   "outputs": [],
   "source": [
    "locale.setlocale(locale.LC_ALL, '')\n",
    "\n",
    "\n",
    "def visit_node(name, depth=0):\n",
    "    prefix = '│    ' * depth\n",
    "    print(prefix, '├──', os.path.basename(name), sep='')\n",
    "    \n",
    "    if os.path.isdir(name):\n",
    "        tree(name, depth=depth + 1)\n",
    "\n",
    "\n",
    "def tree(root='', depth=0):\n",
    "#     print(root)\n",
    "\n",
    "    pattern = os.path.join(root, '*')\n",
    "    names = sorted(glob.glob(pattern), key=locale.strxfrm)\n",
    "    \n",
    "    for name in names[:-1]:\n",
    "        visit_node(name, depth)\n",
    "    \n",
    "    if names:\n",
    "        visit_node(names[-1], depth)\n",
    "    "
   ]
  },
  {
   "cell_type": "code",
   "execution_count": 40,
   "metadata": {
    "collapsed": false
   },
   "outputs": [
    {
     "name": "stdout",
     "output_type": "stream",
     "text": [
      "├──config-err-CzcnSM\n",
      "├──foo\n",
      "│    ├──bar\n",
      "│    │    ├──baz\n",
      "│    │    │    ├──biff\n",
      "│    │    ├──snurgle.txt\n",
      "│    ├──boff.log\n",
      "├──gpg-XJayDB\n",
      "│    ├──S.gpg-agent\n",
      "├──hsperfdata_drocco\n",
      "│    ├──7330\n",
      "├──+~JF5185591545328325661.tmp\n",
      "├──+~JF8060284068828458690.tmp\n",
      "├──+~JF837101194896593587.tmp\n",
      "├──+~JF868030077486781751.tmp\n",
      "├──+~JF8960628349556941096.tmp\n",
      "├──ssh-1F3gWhtsjjYY\n",
      "│    ├──agent.2630\n",
      "├──systemd-private-fb6a43e3efeb4c1aa8a95de5527f2b14-colord.service-XTQqPk\n",
      "├──systemd-private-fb6a43e3efeb4c1aa8a95de5527f2b14-rtkit-daemon.service-ud8DaN\n",
      "├──tmp0q_u64\n",
      "├──tmp6pncvb\n",
      "├──tmpkjkq9i\n",
      "├──tmpnn_e77\n",
      "├──tmpnsoz3s\n",
      "├──tmpoahfhu\n",
      "├──tmppsm4wi\n",
      "├──tmprxnuxr\n",
      "├──tmpsd2bqc\n",
      "├──tmpw00cme\n",
      "├──tmux-1000\n",
      "│    ├──default\n"
     ]
    }
   ],
   "source": [
    "tree()"
   ]
  },
  {
   "cell_type": "code",
   "execution_count": 41,
   "metadata": {
    "collapsed": false
   },
   "outputs": [],
   "source": [
    "locale.setlocale(locale.LC_ALL, '')\n",
    "\n",
    "\n",
    "def visit_node(name, depth=0, last=False):\n",
    "    prefix = '│   ' * depth\n",
    "    marker = '└── ' if last else '├── '\n",
    "    print(prefix, marker, os.path.basename(name), sep='')\n",
    "    \n",
    "    if os.path.isdir(name):\n",
    "        tree(name, depth=depth + 1)\n",
    "\n",
    "\n",
    "def tree(root='', depth=0):\n",
    "    pattern = os.path.join(root, '*')\n",
    "    names = sorted(glob.glob(pattern), key=locale.strxfrm)\n",
    "    \n",
    "    for name in names[:-1]:\n",
    "        visit_node(name, depth)\n",
    "    \n",
    "    if names:\n",
    "        visit_node(names[-1], depth, last=True)\n",
    "    "
   ]
  },
  {
   "cell_type": "code",
   "execution_count": 42,
   "metadata": {
    "collapsed": false
   },
   "outputs": [
    {
     "name": "stdout",
     "output_type": "stream",
     "text": [
      "├── config-err-CzcnSM\n",
      "├── foo\n",
      "│   ├── bar\n",
      "│   │   ├── baz\n",
      "│   │   │   └── biff\n",
      "│   │   └── snurgle.txt\n",
      "│   └── boff.log\n",
      "├── gpg-XJayDB\n",
      "│   └── S.gpg-agent\n",
      "├── hsperfdata_drocco\n",
      "│   └── 7330\n",
      "├── +~JF5185591545328325661.tmp\n",
      "├── +~JF8060284068828458690.tmp\n",
      "├── +~JF837101194896593587.tmp\n",
      "├── +~JF868030077486781751.tmp\n",
      "├── +~JF8960628349556941096.tmp\n",
      "├── ssh-1F3gWhtsjjYY\n",
      "│   └── agent.2630\n",
      "├── systemd-private-fb6a43e3efeb4c1aa8a95de5527f2b14-colord.service-XTQqPk\n",
      "├── systemd-private-fb6a43e3efeb4c1aa8a95de5527f2b14-rtkit-daemon.service-ud8DaN\n",
      "├── tmp0q_u64\n",
      "├── tmp6pncvb\n",
      "├── tmpkjkq9i\n",
      "├── tmpnn_e77\n",
      "├── tmpnsoz3s\n",
      "├── tmpoahfhu\n",
      "├── tmppsm4wi\n",
      "├── tmprxnuxr\n",
      "├── tmpsd2bqc\n",
      "├── tmpw00cme\n",
      "└── tmux-1000\n",
      "│   └── default\n"
     ]
    }
   ],
   "source": [
    "tree()"
   ]
  },
  {
   "cell_type": "code",
   "execution_count": 43,
   "metadata": {
    "collapsed": false
   },
   "outputs": [],
   "source": [
    "locale.setlocale(locale.LC_ALL, '')\n",
    "\n",
    "\n",
    "def visit_node(name, depth=0, last=False):\n",
    "    prefix = '│   ' * depth\n",
    "    marker = '└── ' if last else '├── '\n",
    "    print(prefix, marker, name, sep='')\n",
    "\n",
    "\n",
    "def sorted_names(root):\n",
    "    pattern = os.path.join(root, '*')\n",
    "    return sorted(glob.glob(pattern), key=locale.strxfrm)\n",
    "    \n",
    "\n",
    "def annotate(names):\n",
    "    yield from ((name, False) for name in names[:-1])\n",
    "    \n",
    "    if names:\n",
    "        yield names[-1], True\n",
    "    \n",
    "    \n",
    "def tree(root='', depth=0):\n",
    "    for name, is_last in annotate(sorted_names(root)):\n",
    "        display_name = os.path.basename(name)\n",
    "        visit_node(display_name, depth, last=is_last)\n",
    "            \n",
    "        if os.path.isdir(name):\n",
    "            tree(name, depth=depth + 1)\n"
   ]
  },
  {
   "cell_type": "code",
   "execution_count": 44,
   "metadata": {
    "collapsed": false
   },
   "outputs": [
    {
     "name": "stdout",
     "output_type": "stream",
     "text": [
      "├── config-err-CzcnSM\n",
      "├── foo\n",
      "│   ├── bar\n",
      "│   │   ├── baz\n",
      "│   │   │   └── biff\n",
      "│   │   └── snurgle.txt\n",
      "│   └── boff.log\n",
      "├── gpg-XJayDB\n",
      "│   └── S.gpg-agent\n",
      "├── hsperfdata_drocco\n",
      "│   └── 7330\n",
      "├── +~JF5185591545328325661.tmp\n",
      "├── +~JF8060284068828458690.tmp\n",
      "├── +~JF837101194896593587.tmp\n",
      "├── +~JF868030077486781751.tmp\n",
      "├── +~JF8960628349556941096.tmp\n",
      "├── ssh-1F3gWhtsjjYY\n",
      "│   └── agent.2630\n",
      "├── systemd-private-fb6a43e3efeb4c1aa8a95de5527f2b14-colord.service-XTQqPk\n",
      "├── systemd-private-fb6a43e3efeb4c1aa8a95de5527f2b14-rtkit-daemon.service-ud8DaN\n",
      "├── tmp0q_u64\n",
      "├── tmp6pncvb\n",
      "├── tmpkjkq9i\n",
      "├── tmpnn_e77\n",
      "├── tmpnsoz3s\n",
      "├── tmpoahfhu\n",
      "├── tmppsm4wi\n",
      "├── tmprxnuxr\n",
      "├── tmpsd2bqc\n",
      "├── tmpw00cme\n",
      "└── tmux-1000\n",
      "│   └── default\n"
     ]
    }
   ],
   "source": [
    "tree()"
   ]
  },
  {
   "cell_type": "code",
   "execution_count": 45,
   "metadata": {
    "collapsed": false
   },
   "outputs": [],
   "source": [
    "locale.setlocale(locale.LC_ALL, '')\n",
    "\n",
    "\n",
    "def visit_node(name, depth=0, last=False, last_subtree=False):\n",
    "    prefix_marker = '    ' if last_subtree else '│   ' \n",
    "    prefix = prefix_marker * depth\n",
    "    marker = '└── ' if last else '├── '\n",
    "    print(prefix, marker, name, sep='')\n",
    "\n",
    "\n",
    "def sorted_names(root):\n",
    "    pattern = os.path.join(root, '*')\n",
    "    return sorted(glob.glob(pattern), key=locale.strxfrm)\n",
    "    \n",
    "\n",
    "def annotate(names):\n",
    "    yield from ((name, False) for name in names[:-1])\n",
    "    \n",
    "    if names:\n",
    "        yield names[-1], True\n",
    "    \n",
    "    \n",
    "def tree(root='', depth=0, top_level=True,\n",
    "         last_subtree=False):\n",
    "    \n",
    "    if top_level:\n",
    "        print('.')\n",
    "        \n",
    "    for name, is_last in annotate(sorted_names(root)):\n",
    "        display_name = os.path.basename(name)\n",
    "        \n",
    "        if top_level and is_last:\n",
    "            last_subtree = True\n",
    "            \n",
    "        visit_node(display_name, depth, \n",
    "                   last=is_last, last_subtree=last_subtree)\n",
    "            \n",
    "        if os.path.isdir(name):\n",
    "            tree(name, depth=depth + 1, top_level=False,\n",
    "                 last_subtree=last_subtree)\n"
   ]
  },
  {
   "cell_type": "code",
   "execution_count": 46,
   "metadata": {
    "collapsed": false
   },
   "outputs": [
    {
     "name": "stdout",
     "output_type": "stream",
     "text": [
      ".\n",
      "├── config-err-CzcnSM\n",
      "├── foo\n",
      "│   ├── bar\n",
      "│   │   ├── baz\n",
      "│   │   │   └── biff\n",
      "│   │   └── snurgle.txt\n",
      "│   └── boff.log\n",
      "├── gpg-XJayDB\n",
      "│   └── S.gpg-agent\n",
      "├── hsperfdata_drocco\n",
      "│   └── 7330\n",
      "├── +~JF5185591545328325661.tmp\n",
      "├── +~JF8060284068828458690.tmp\n",
      "├── +~JF837101194896593587.tmp\n",
      "├── +~JF868030077486781751.tmp\n",
      "├── +~JF8960628349556941096.tmp\n",
      "├── ssh-1F3gWhtsjjYY\n",
      "│   └── agent.2630\n",
      "├── systemd-private-fb6a43e3efeb4c1aa8a95de5527f2b14-colord.service-XTQqPk\n",
      "├── systemd-private-fb6a43e3efeb4c1aa8a95de5527f2b14-rtkit-daemon.service-ud8DaN\n",
      "├── tmp0q_u64\n",
      "├── tmp6pncvb\n",
      "├── tmpkjkq9i\n",
      "├── tmpnn_e77\n",
      "├── tmpnsoz3s\n",
      "├── tmpoahfhu\n",
      "├── tmppsm4wi\n",
      "├── tmprxnuxr\n",
      "├── tmpsd2bqc\n",
      "├── tmpw00cme\n",
      "└── tmux-1000\n",
      "    └── default\n"
     ]
    }
   ],
   "source": [
    "tree()"
   ]
  },
  {
   "cell_type": "code",
   "execution_count": null,
   "metadata": {
    "collapsed": true
   },
   "outputs": [],
   "source": []
  },
  {
   "cell_type": "code",
   "execution_count": null,
   "metadata": {
    "collapsed": true
   },
   "outputs": [],
   "source": []
  },
  {
   "cell_type": "code",
   "execution_count": null,
   "metadata": {
    "collapsed": true
   },
   "outputs": [],
   "source": []
  },
  {
   "cell_type": "code",
   "execution_count": null,
   "metadata": {
    "collapsed": true
   },
   "outputs": [],
   "source": []
  },
  {
   "cell_type": "code",
   "execution_count": null,
   "metadata": {
    "collapsed": true
   },
   "outputs": [],
   "source": []
  },
  {
   "cell_type": "code",
   "execution_count": null,
   "metadata": {
    "collapsed": true
   },
   "outputs": [],
   "source": []
  },
  {
   "cell_type": "code",
   "execution_count": null,
   "metadata": {
    "collapsed": true
   },
   "outputs": [],
   "source": []
  },
  {
   "cell_type": "code",
   "execution_count": 47,
   "metadata": {
    "collapsed": false
   },
   "outputs": [
    {
     "name": "stdout",
     "output_type": "stream",
     "text": [
      "\u001b[30;42m.\u001b[00m\r\n",
      "├── config-err-CzcnSM\r\n",
      "├── \u001b[01;34mfoo\u001b[00m\r\n",
      "│   ├── \u001b[01;34mbar\u001b[00m\r\n",
      "│   │   ├── \u001b[01;34mbaz\u001b[00m\r\n",
      "│   │   │   └── \u001b[01;34mbiff\u001b[00m\r\n",
      "│   │   └── snurgle.txt\r\n",
      "│   └── boff.log\r\n",
      "├── \u001b[01;34mgpg-XJayDB\u001b[00m\r\n",
      "│   └── \u001b[01;35mS.gpg-agent\u001b[00m\r\n",
      "├── \u001b[01;34mhsperfdata_drocco\u001b[00m\r\n",
      "│   └── 7330\r\n",
      "├── +~JF5185591545328325661.tmp\r\n",
      "├── +~JF8060284068828458690.tmp\r\n",
      "├── +~JF837101194896593587.tmp\r\n",
      "├── +~JF868030077486781751.tmp\r\n",
      "├── +~JF8960628349556941096.tmp\r\n",
      "├── \u001b[01;34mssh-1F3gWhtsjjYY\u001b[00m\r\n",
      "│   └── \u001b[01;35magent.2630\u001b[00m\r\n",
      "├── \u001b[01;34msystemd-private-fb6a43e3efeb4c1aa8a95de5527f2b14-colord.service-XTQqPk\u001b[00m [error opening dir]\r\n",
      "├── \u001b[01;34msystemd-private-fb6a43e3efeb4c1aa8a95de5527f2b14-rtkit-daemon.service-ud8DaN\u001b[00m [error opening dir]\r\n",
      "├── tmp0q_u64\r\n",
      "├── tmp6pncvb\r\n",
      "├── tmpkjkq9i\r\n",
      "├── tmpnn_e77\r\n",
      "├── tmpnsoz3s\r\n",
      "├── tmpoahfhu\r\n",
      "├── tmppsm4wi\r\n",
      "├── tmprxnuxr\r\n",
      "├── tmpsd2bqc\r\n",
      "├── tmpw00cme\r\n",
      "└── \u001b[01;34mtmux-1000\u001b[00m\r\n",
      "    └── \u001b[01;35mdefault\u001b[00m\r\n",
      "\r\n",
      "10 directories, 22 files\r\n"
     ]
    }
   ],
   "source": [
    "!tree"
   ]
  },
  {
   "cell_type": "code",
   "execution_count": 48,
   "metadata": {
    "collapsed": false
   },
   "outputs": [
    {
     "name": "stdout",
     "output_type": "stream",
     "text": [
      ".\n",
      "├── config-err-CzcnSM\n",
      "├── foo\n",
      "│   ├── bar\n",
      "│   │   ├── baz\n",
      "│   │   │   └── biff\n",
      "│   │   └── snurgle.txt\n",
      "│   └── boff.log\n",
      "├── gpg-XJayDB\n",
      "│   └── S.gpg-agent\n",
      "├── hsperfdata_drocco\n",
      "│   └── 7330\n",
      "├── +~JF5185591545328325661.tmp\n",
      "├── +~JF8060284068828458690.tmp\n",
      "├── +~JF837101194896593587.tmp\n",
      "├── +~JF868030077486781751.tmp\n",
      "├── +~JF8960628349556941096.tmp\n",
      "├── ssh-1F3gWhtsjjYY\n",
      "│   └── agent.2630\n",
      "├── systemd-private-fb6a43e3efeb4c1aa8a95de5527f2b14-colord.service-XTQqPk\n",
      "├── systemd-private-fb6a43e3efeb4c1aa8a95de5527f2b14-rtkit-daemon.service-ud8DaN\n",
      "├── tmp0q_u64\n",
      "├── tmp6pncvb\n",
      "├── tmpkjkq9i\n",
      "├── tmpnn_e77\n",
      "├── tmpnsoz3s\n",
      "├── tmpoahfhu\n",
      "├── tmppsm4wi\n",
      "├── tmprxnuxr\n",
      "├── tmpsd2bqc\n",
      "├── tmpw00cme\n",
      "└── tmux-1000\n",
      "    └── default\n"
     ]
    }
   ],
   "source": [
    "tree()"
   ]
  },
  {
   "cell_type": "code",
   "execution_count": null,
   "metadata": {
    "collapsed": true
   },
   "outputs": [],
   "source": []
  },
  {
   "cell_type": "code",
   "execution_count": null,
   "metadata": {
    "collapsed": true
   },
   "outputs": [],
   "source": []
  }
 ],
 "metadata": {
  "celltoolbar": "Slideshow",
  "kernelspec": {
   "display_name": "Python 3",
   "language": "python",
   "name": "python3"
  },
  "language_info": {
   "codemirror_mode": {
    "name": "ipython",
    "version": 3
   },
   "file_extension": ".py",
   "mimetype": "text/x-python",
   "name": "python",
   "nbconvert_exporter": "python",
   "pygments_lexer": "ipython3",
   "version": "3.4.3"
  }
 },
 "nbformat": 4,
 "nbformat_minor": 0
}
