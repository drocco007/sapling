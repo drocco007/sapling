{
 "cells": [
  {
   "cell_type": "raw",
   "metadata": {
    "collapsed": false,
    "scrolled": false,
    "slideshow": {
     "slide_type": "skip"
    }
   },
   "source": [
    "# set up the slide show\n",
    "from notebook.services.config import ConfigManager\n",
    "cm = ConfigManager()\n",
    "cm.update('livereveal', {\n",
    "    'theme': 'solarized',\n",
    "    #'width': 1024,\n",
    "    #'height': 768,\n",
    "    'transition': 'none',\n",
    "    'start_slideshow_at': 'selected',\n",
    "})"
   ]
  },
  {
   "cell_type": "code",
   "execution_count": 1,
   "metadata": {
    "collapsed": false,
    "scrolled": false,
    "slideshow": {
     "slide_type": "skip"
    }
   },
   "outputs": [
    {
     "data": {
      "text/html": [
       "<style>body.rise-enabled\n",
       "{\n",
       "    background: #fdf6e3;\n",
       "    background-color: #fdf6e3;\n",
       "}\n",
       "\n",
       ".rise-enabled #header\n",
       "{\n",
       "    display: none !important;\n",
       "}\n",
       "\n",
       ".reveal li\n",
       "{\n",
       "    list-style: none;\n",
       "}\n",
       "\n",
       ".reveal\n",
       "{\n",
       "    font-family: \"Ubuntu\";\n",
       "    font-size: 42zpx;\n",
       "    font-variant-ligatures: common-ligatures;\n",
       "    letter-spacing: inherit;\n",
       "}\n",
       "\n",
       ".reveal .rendered_html\n",
       "{\n",
       "    color: #586e75;\n",
       "}\n",
       "\n",
       ".reveal .rendered_html h1,\n",
       ".reveal .rendered_html h2,\n",
       ".reveal .rendered_html h3,\n",
       ".reveal .rendered_html h4,\n",
       ".reveal .rendered_html h5,\n",
       ".reveal .rendered_html h6\n",
       "{\n",
       "    font-weight: normal;\n",
       "    text-shadow: none;\n",
       "    text-transform: none;\n",
       "}\n",
       "\n",
       ".reveal .rendered_html h1\n",
       "{\n",
       "    font-size: 300%;\n",
       "}\n",
       "\n",
       ".reveal .rendered_html h2\n",
       "{\n",
       "    font-size: 200%;\n",
       "}\n",
       "\n",
       ".reveal .rendered_html p\n",
       "{\n",
       "    text-align: center;\n",
       "}\n",
       "\n",
       ".reveal .rendered_html img\n",
       "{\n",
       "    display: inline-block;\n",
       "}\n",
       "\n",
       ".reveal pre,\n",
       ".reveal code,\n",
       ".reveal .prompt\n",
       "{\n",
       "    font-family: \"Ubuntu Mono\", monospace !important;\n",
       "    font-size: 42zpx !important;\n",
       "    line-height: 1.2em;\n",
       "}\n",
       "\n",
       ".rise-enabled .reveal pre,\n",
       ".rise-enabled .reveal code\n",
       "{\n",
       "    padding: 0;\n",
       "    background: none;\n",
       "    color: #2aa198;\n",
       "    overflow: visible;\n",
       "}\n",
       "\n",
       ".reveal .prompt\n",
       "{\n",
       "    padding: 9px 0 0 0 !important;\n",
       "}\n",
       "\n",
       ".reveal em\n",
       "{\n",
       "  font-style: italic;\n",
       "  color: #b58900;\n",
       "}\n",
       "\n",
       ".reveal strong\n",
       "{\n",
       "  color: #d33682;\n",
       "}\n",
       "\n",
       ".reveal blockquote\n",
       "{\n",
       "    background: none;\n",
       "    border: none;\n",
       "    box-shadow: none;\n",
       "    text-align: center;\n",
       "}\n",
       "\n",
       ".reveal #slide-0-0 .rendered_html\n",
       "{\n",
       "    position: absolute;\n",
       "    top: 175px;\n",
       "    left: 100px;\n",
       "}\n",
       "\n",
       ".reveal #slide-0-0 .rendered_html,\n",
       ".reveal #slide-5-0 .rendered_html\n",
       "{\n",
       "    background-color: rgba(224, 224, 224, .7);\n",
       "}\n",
       "\n",
       "\n",
       "/*\n",
       " * Suppress error message triggered by Jupyter encoding bug\n",
       " *\n",
       " * http://stackoverflow.com/questions/2260815/weird-problem-with-input-encoding-in-ipython\n",
       " */\n",
       ".output_stderr\n",
       "{\n",
       "    display: none;\n",
       "}\n",
       "</style>"
      ],
      "text/plain": [
       "<IPython.core.display.HTML object>"
      ]
     },
     "execution_count": 1,
     "metadata": {},
     "output_type": "execute_result"
    }
   ],
   "source": [
    "# CSS overrides\n",
    "from IPython.core.display import HTML\n",
    "css = open('style-notebook.css').read()\n",
    "HTML('<style>{}</style>'.format(css))"
   ]
  },
  {
   "cell_type": "code",
   "execution_count": 8,
   "metadata": {
    "collapsed": true,
    "scrolled": false,
    "slideshow": {
     "slide_type": "skip"
    }
   },
   "outputs": [],
   "source": [
    "import os\n",
    "\n",
    "os.chdir('/tmp')\n",
    "\n",
    "!mkdir -p foo/bar/baz/biff\n",
    "!touch foo/boff.log foo/bar/snurgle.txt\n",
    "!mkdir -p zzz/zzz\n",
    "!touch zzz/zzz/1_super.txt\n",
    "!touch zzz/zzz/sapling.txt"
   ]
  },
  {
   "cell_type": "markdown",
   "metadata": {
    "slideshow": {
     "data": {
      "background-image": "20100901_083909.jpg"
     },
     "slide_type": "slide"
    }
   },
   "source": [
    "# PyAtl\n",
    "\n",
    "## April 14, 2016\n",
    "## General Assembly"
   ]
  },
  {
   "cell_type": "markdown",
   "metadata": {
    "slideshow": {
     "slide_type": "slide"
    }
   },
   "source": [
    "# PyAtl\n",
    "## April 14, 2016\n",
    "\n",
    "* Welcome\n",
    "* Hello from GA!\n",
    "* Announcements\n",
    "* Talks"
   ]
  },
  {
   "cell_type": "markdown",
   "metadata": {
    "slideshow": {
     "slide_type": "slide"
    }
   },
   "source": [
    "# Hello from GA!"
   ]
  },
  {
   "cell_type": "markdown",
   "metadata": {
    "slideshow": {
     "data": {
      "background-color": "#a6dde6"
     },
     "slide_type": "slide"
    }
   },
   "source": [
    "# Announcements\n",
    "\n",
    "<img src=\"PyCon16-logo.svg\" width=\"600\" class=\"center-block\">"
   ]
  },
  {
   "cell_type": "markdown",
   "metadata": {
    "slideshow": {
     "slide_type": "slide"
    }
   },
   "source": [
    "## Talks\n",
    "\n",
    "*Implementing the* `tree` *command in Python* (beginner)<br/>\n",
    "— Daniel Rocco\n",
    "\n",
    "*Faster Debugging with PDB: No More Printing Out Objects*<br/>\n",
    "—Benjamin Crom\n",
    "\n",
    "&lt;br/&gt;\n",
    "\n",
    "*Python on AWS Lambda: Practical Applications*<br/>\n",
    "—Brian Morton"
   ]
  },
  {
   "cell_type": "markdown",
   "metadata": {
    "slideshow": {
     "data": {
      "background-image": "Sapling_on_a_stub.jpg"
     },
     "slide_type": "slide"
    }
   },
   "source": [
    "# sapling\n",
    "\n",
    "### Implementing `tree` in Python\n",
    "\n",
    "<script>$(\"#slide-4-0\").data(\"backgroundImage\", \"Sapling_on_a_stub.jpg\")</script>"
   ]
  },
  {
   "cell_type": "code",
   "execution_count": 10,
   "metadata": {
    "collapsed": false,
    "scrolled": false,
    "slideshow": {
     "slide_type": "slide"
    }
   },
   "outputs": [
    {
     "name": "stdout",
     "output_type": "stream",
     "text": [
      "\u001b[30;42m.\u001b[00m\r\n",
      "├── config-err-nMfopY\r\n",
      "├── \u001b[01;34mfoo\u001b[00m\r\n",
      "│   ├── \u001b[01;34mbar\u001b[00m\r\n",
      "│   │   ├── \u001b[01;34mbaz\u001b[00m\r\n",
      "│   │   │   └── \u001b[01;34mbiff\u001b[00m\r\n",
      "│   │   └── snurgle.txt\r\n",
      "│   └── boff.log\r\n",
      "├── \u001b[01;34mgpg-Rm8aoI\u001b[00m\r\n",
      "│   └── \u001b[01;35mS.gpg-agent\u001b[00m\r\n",
      "├── \u001b[01;34mhsperfdata_drocco\u001b[00m\r\n",
      "│   └── 4048\r\n",
      "├── +~JF2068339028303085085.tmp\r\n",
      "├── +~JF3389823636842465214.tmp\r\n",
      "├── +~JF3945977373033545895.tmp\r\n",
      "├── +~JF4064088703298571803.tmp\r\n",
      "├── +~JF6869405115425776864.tmp\r\n",
      "├── \u001b[01;34mssh-cZcqyXaOUDP2\u001b[00m\r\n",
      "│   └── \u001b[01;35magent.2167\u001b[00m\r\n",
      "├── \u001b[01;34msystemd-private-2d95c2758e1c46ad97b31824c27f5a0e-colord.service-p0E8sR\u001b[00m [error opening dir]\r\n",
      "├── \u001b[01;34msystemd-private-2d95c2758e1c46ad97b31824c27f5a0e-rtkit-daemon.service-hyPw0K\u001b[00m [error opening dir]\r\n",
      "├── \u001b[01;34mtmux-1000\u001b[00m\r\n",
      "│   └── \u001b[01;35mdefault\u001b[00m\r\n",
      "└── \u001b[01;34mzzz\u001b[00m\r\n",
      "    └── \u001b[01;34mzzz\u001b[00m\r\n",
      "        ├── 1_super.txt\r\n",
      "        └── sapling.txt\r\n",
      "\r\n",
      "12 directories, 14 files\r\n"
     ]
    }
   ],
   "source": [
    "!tree"
   ]
  },
  {
   "cell_type": "markdown",
   "metadata": {
    "slideshow": {
     "slide_type": "slide"
    }
   },
   "source": [
    "Q:\n",
    "\n",
    "*How do we approach this problem?*"
   ]
  },
  {
   "cell_type": "markdown",
   "metadata": {
    "slideshow": {
     "slide_type": "slide"
    }
   },
   "source": [
    "# Key: Work Incrementally\n",
    "\n",
    "“code a little, test a little”\n",
    "\n",
    "*break the work into* **small, easy chunks**\n"
   ]
  },
  {
   "cell_type": "markdown",
   "metadata": {
    "slideshow": {
     "slide_type": "slide"
    }
   },
   "source": [
    "# Key: Work Incrementally\n",
    "\n",
    "“code a little, test a little”\n",
    "\n",
    "*even if you're not using automated testing,*\n",
    "\n",
    "**check your work often!**"
   ]
  },
  {
   "cell_type": "markdown",
   "metadata": {
    "slideshow": {
     "slide_type": "slide"
    }
   },
   "source": [
    "# Key: Work Incrementally\n",
    "\n",
    "*IPython* or *Jupyter Notebook* provide \n",
    "\n",
    "**automatic history** \n",
    "\n",
    "to review progress & backtrack if necessary"
   ]
  },
  {
   "cell_type": "markdown",
   "metadata": {
    "slideshow": {
     "slide_type": "slide"
    }
   },
   "source": [
    "# Key: Library Leverage\n",
    "\n",
    "There are *multiple high-quality tools* in the\n",
    "\n",
    "**standard library**\n",
    "\n",
    "to help complete this task"
   ]
  },
  {
   "cell_type": "code",
   "execution_count": 4,
   "metadata": {
    "collapsed": true,
    "scrolled": false,
    "slideshow": {
     "slide_type": "slide"
    }
   },
   "outputs": [],
   "source": [
    "def tree():\n",
    "    print('.')"
   ]
  },
  {
   "cell_type": "code",
   "execution_count": 5,
   "metadata": {
    "collapsed": false,
    "scrolled": false
   },
   "outputs": [
    {
     "name": "stdout",
     "output_type": "stream",
     "text": [
      ".\n"
     ]
    }
   ],
   "source": [
    "tree()"
   ]
  },
  {
   "cell_type": "markdown",
   "metadata": {
    "slideshow": {
     "slide_type": "slide"
    }
   },
   "source": [
    "Toolbox: `os.listdir`"
   ]
  },
  {
   "cell_type": "code",
   "execution_count": 11,
   "metadata": {
    "collapsed": false,
    "scrolled": false,
    "slideshow": {
     "slide_type": "slide"
    }
   },
   "outputs": [
    {
     "data": {
      "text/plain": [
       "['+~JF2068339028303085085.tmp',\n",
       " 'ssh-cZcqyXaOUDP2',\n",
       " '+~JF6869405115425776864.tmp',\n",
       " 'tmux-1000',\n",
       " '.ICE-unix',\n",
       " '.X11-unix',\n",
       " 'hsperfdata_drocco',\n",
       " 'config-err-nMfopY',\n",
       " '.esd-112',\n",
       " 'gpg-Rm8aoI',\n",
       " '+~JF4064088703298571803.tmp',\n",
       " '+~JF3945977373033545895.tmp',\n",
       " '.font-unix',\n",
       " '+~JF3389823636842465214.tmp',\n",
       " 'systemd-private-2d95c2758e1c46ad97b31824c27f5a0e-colord.service-p0E8sR',\n",
       " '.XIM-unix',\n",
       " 'systemd-private-2d95c2758e1c46ad97b31824c27f5a0e-rtkit-daemon.service-hyPw0K',\n",
       " '.X0-lock',\n",
       " 'foo',\n",
       " '.org.chromium.Chromium.rI50TZ',\n",
       " 'zzz',\n",
       " '.Test-unix',\n",
       " '.esd-1000']"
      ]
     },
     "execution_count": 11,
     "metadata": {},
     "output_type": "execute_result"
    }
   ],
   "source": [
    "os.listdir()"
   ]
  },
  {
   "cell_type": "markdown",
   "metadata": {
    "slideshow": {
     "slide_type": "slide"
    }
   },
   "source": [
    "`os.listdir` will do the job, but we'd need to filter dotfiles ourselves…"
   ]
  },
  {
   "cell_type": "markdown",
   "metadata": {
    "slideshow": {
     "slide_type": "slide"
    }
   },
   "source": [
    "It turns out…"
   ]
  },
  {
   "cell_type": "markdown",
   "metadata": {
    "slideshow": {
     "slide_type": "slide"
    }
   },
   "source": [
    "there's already another tool that does this!"
   ]
  },
  {
   "cell_type": "code",
   "execution_count": 12,
   "metadata": {
    "collapsed": false,
    "scrolled": false,
    "slideshow": {
     "slide_type": "slide"
    }
   },
   "outputs": [
    {
     "data": {
      "text/plain": [
       "['+~JF2068339028303085085.tmp',\n",
       " 'ssh-cZcqyXaOUDP2',\n",
       " '+~JF6869405115425776864.tmp',\n",
       " 'tmux-1000',\n",
       " 'hsperfdata_drocco',\n",
       " 'config-err-nMfopY',\n",
       " 'gpg-Rm8aoI',\n",
       " '+~JF4064088703298571803.tmp',\n",
       " '+~JF3945977373033545895.tmp',\n",
       " '+~JF3389823636842465214.tmp',\n",
       " 'systemd-private-2d95c2758e1c46ad97b31824c27f5a0e-colord.service-p0E8sR',\n",
       " 'systemd-private-2d95c2758e1c46ad97b31824c27f5a0e-rtkit-daemon.service-hyPw0K',\n",
       " 'foo',\n",
       " 'zzz']"
      ]
     },
     "execution_count": 12,
     "metadata": {},
     "output_type": "execute_result"
    }
   ],
   "source": [
    "import glob\n",
    "glob.glob('*')"
   ]
  },
  {
   "cell_type": "code",
   "execution_count": 13,
   "metadata": {
    "collapsed": true,
    "scrolled": false,
    "slideshow": {
     "slide_type": "slide"
    }
   },
   "outputs": [],
   "source": [
    "def tree():\n",
    "    print('.')\n",
    "    for name in glob.glob('*'):\n",
    "        print('├──', name)"
   ]
  },
  {
   "cell_type": "code",
   "execution_count": 14,
   "metadata": {
    "collapsed": false,
    "scrolled": false,
    "slideshow": {
     "slide_type": "fragment"
    }
   },
   "outputs": [
    {
     "name": "stdout",
     "output_type": "stream",
     "text": [
      ".\n",
      "├── +~JF2068339028303085085.tmp\n",
      "├── ssh-cZcqyXaOUDP2\n",
      "├── +~JF6869405115425776864.tmp\n",
      "├── tmux-1000\n",
      "├── hsperfdata_drocco\n",
      "├── config-err-nMfopY\n",
      "├── gpg-Rm8aoI\n",
      "├── +~JF4064088703298571803.tmp\n",
      "├── +~JF3945977373033545895.tmp\n",
      "├── +~JF3389823636842465214.tmp\n",
      "├── systemd-private-2d95c2758e1c46ad97b31824c27f5a0e-colord.service-p0E8sR\n",
      "├── systemd-private-2d95c2758e1c46ad97b31824c27f5a0e-rtkit-daemon.service-hyPw0K\n",
      "├── foo\n",
      "├── zzz\n"
     ]
    }
   ],
   "source": [
    "tree()"
   ]
  },
  {
   "cell_type": "markdown",
   "metadata": {
    "slideshow": {
     "slide_type": "slide"
    }
   },
   "source": [
    "Let's sort that…"
   ]
  },
  {
   "cell_type": "code",
   "execution_count": 15,
   "metadata": {
    "collapsed": true,
    "scrolled": false,
    "slideshow": {
     "slide_type": "slide"
    }
   },
   "outputs": [],
   "source": [
    "def tree():\n",
    "    print('.')\n",
    "    for name in sorted(glob.glob('*')):\n",
    "        print('├──', name)"
   ]
  },
  {
   "cell_type": "code",
   "execution_count": 16,
   "metadata": {
    "collapsed": false,
    "scrolled": false
   },
   "outputs": [
    {
     "name": "stdout",
     "output_type": "stream",
     "text": [
      ".\n",
      "├── +~JF2068339028303085085.tmp\n",
      "├── +~JF3389823636842465214.tmp\n",
      "├── +~JF3945977373033545895.tmp\n",
      "├── +~JF4064088703298571803.tmp\n",
      "├── +~JF6869405115425776864.tmp\n",
      "├── config-err-nMfopY\n",
      "├── foo\n",
      "├── gpg-Rm8aoI\n",
      "├── hsperfdata_drocco\n",
      "├── ssh-cZcqyXaOUDP2\n",
      "├── systemd-private-2d95c2758e1c46ad97b31824c27f5a0e-colord.service-p0E8sR\n",
      "├── systemd-private-2d95c2758e1c46ad97b31824c27f5a0e-rtkit-daemon.service-hyPw0K\n",
      "├── tmux-1000\n",
      "├── zzz\n"
     ]
    }
   ],
   "source": [
    "tree()"
   ]
  },
  {
   "cell_type": "markdown",
   "metadata": {
    "slideshow": {
     "slide_type": "slide"
    }
   },
   "source": [
    "Hmm. Our sort\n",
    "\n",
    "    ├── +~JF2068339028303085085.tmp\n",
    "    ├── +~JF3389823636842465214.tmp\n",
    "    ├── +~JF3945977373033545895.tmp\n",
    "    ├── +~JF4064088703298571803.tmp\n",
    "    ├── +~JF6869405115425776864.tmp\n",
    "    ├── config-err-nMfopY\n",
    "    \n",
    "doesn't match that of `tree` actual"
   ]
  },
  {
   "cell_type": "code",
   "execution_count": 17,
   "metadata": {
    "collapsed": false
   },
   "outputs": [
    {
     "name": "stdout",
     "output_type": "stream",
     "text": [
      "├── config-err-nMfopY\r\n",
      "├── foo\r\n",
      "├── gpg-Rm8aoI\r\n",
      "├── hsperfdata_drocco\r\n",
      "├── +~JF2068339028303085085.tmp\r\n"
     ]
    }
   ],
   "source": [
    "!tree -L 1 | sed '1d;6q'"
   ]
  },
  {
   "cell_type": "markdown",
   "metadata": {
    "slideshow": {
     "slide_type": "slide"
    }
   },
   "source": [
    "*Well why not?!*"
   ]
  },
  {
   "cell_type": "markdown",
   "metadata": {
    "slideshow": {
     "slide_type": "slide"
    }
   },
   "source": [
    "man tree\n",
    "\n",
    "*“Sort the output by name (as per ls)”*\n",
    "\n",
    "$#@%&*!"
   ]
  },
  {
   "cell_type": "markdown",
   "metadata": {
    "slideshow": {
     "slide_type": "slide"
    }
   },
   "source": [
    "man ls\n",
    "\n",
    "*scroll scroll scroll*\n",
    "\n",
    "$#@%&*!"
   ]
  },
  {
   "cell_type": "markdown",
   "metadata": {
    "slideshow": {
     "slide_type": "slide"
    }
   },
   "source": [
    "google → SO\n",
    "\n",
    "*“ls from coreutils performs a **locale-aware sort** by default…”*\n",
    "\n",
    "Ohh…"
   ]
  },
  {
   "cell_type": "markdown",
   "metadata": {
    "slideshow": {
     "slide_type": "slide"
    }
   },
   "source": [
    "google “python locale aware sort”"
   ]
  },
  {
   "cell_type": "markdown",
   "metadata": {
    "slideshow": {
     "slide_type": "slide"
    }
   },
   "source": [
    "# Python’s `locale` module\n",
    "\n",
    "> The locale module opens access to the POSIX locale database and functionality. "
   ]
  },
  {
   "cell_type": "markdown",
   "metadata": {
    "slideshow": {
     "slide_type": "slide"
    }
   },
   "source": [
    "# Python’s `locale` module\n",
    "\n",
    "> The POSIX locale mechanism allows programmers to deal with certain cultural issues in an application, without requiring the programmer to know all the specifics of each country where the software is executed."
   ]
  },
  {
   "cell_type": "markdown",
   "metadata": {
    "slideshow": {
     "slide_type": "slide"
    }
   },
   "source": [
    "# Python’s `locale` module\n",
    "\n",
    "> Applications typically start with a call of\n",
    "\n",
    "    import locale\n",
    "    locale.setlocale(locale.LC_ALL, '')\n",
    "\n",
    "> This sets the locale for all categories to the user’s default setting (typically specified in the `LANG` environment variable)."
   ]
  },
  {
   "cell_type": "markdown",
   "metadata": {
    "slideshow": {
     "slide_type": "slide"
    }
   },
   "source": [
    "# Python’s `locale` module\n",
    "\n",
    "> According to POSIX, a program which has not called `setlocale(LC_ALL, '')` runs using the portable `'C'` locale. Calling `setlocale(LC_ALL, '')` lets it use the default locale as defined by the LANG variable."
   ]
  },
  {
   "cell_type": "markdown",
   "metadata": {
    "slideshow": {
     "slide_type": "slide"
    }
   },
   "source": [
    "Pause for a moment to appreciate"
   ]
  },
  {
   "cell_type": "markdown",
   "metadata": {
    "slideshow": {
     "slide_type": "slide"
    }
   },
   "source": [
    "Python"
   ]
  },
  {
   "cell_type": "markdown",
   "metadata": {
    "slideshow": {
     "slide_type": "slide"
    }
   },
   "source": [
    "and the high standard of excellence set by"
   ]
  },
  {
   "cell_type": "markdown",
   "metadata": {
    "slideshow": {
     "slide_type": "slide"
    }
   },
   "source": [
    "its *documentation*"
   ]
  },
  {
   "cell_type": "code",
   "execution_count": 18,
   "metadata": {
    "collapsed": true,
    "scrolled": false,
    "slideshow": {
     "slide_type": "skip"
    }
   },
   "outputs": [],
   "source": [
    "from locale import strxfrm"
   ]
  },
  {
   "cell_type": "code",
   "execution_count": 19,
   "metadata": {
    "collapsed": false,
    "scrolled": false,
    "slideshow": {
     "slide_type": "slide"
    }
   },
   "outputs": [
    {
     "data": {
      "text/plain": [
       "('en_US', 'UTF-8')"
      ]
     },
     "execution_count": 19,
     "metadata": {},
     "output_type": "execute_result"
    }
   ],
   "source": [
    "import locale\n",
    "\n",
    "locale.getlocale()"
   ]
  },
  {
   "cell_type": "code",
   "execution_count": 22,
   "metadata": {
    "collapsed": false,
    "scrolled": false,
    "slideshow": {
     "slide_type": "slide"
    }
   },
   "outputs": [],
   "source": [
    "locale.setlocale(locale.LC_ALL, '')\n",
    "\n",
    "def tree():\n",
    "    print('.')\n",
    "    for name in sorted(glob.glob('*'), key=locale.strxfrm):\n",
    "        print('├──', name)"
   ]
  },
  {
   "cell_type": "code",
   "execution_count": 23,
   "metadata": {
    "collapsed": false,
    "scrolled": false
   },
   "outputs": [
    {
     "name": "stdout",
     "output_type": "stream",
     "text": [
      ".\n",
      "├── config-err-nMfopY\n",
      "├── foo\n",
      "├── gpg-Rm8aoI\n",
      "├── hsperfdata_drocco\n",
      "├── +~JF2068339028303085085.tmp\n",
      "├── +~JF3389823636842465214.tmp\n",
      "├── +~JF3945977373033545895.tmp\n",
      "├── +~JF4064088703298571803.tmp\n",
      "├── +~JF6869405115425776864.tmp\n",
      "├── ssh-cZcqyXaOUDP2\n",
      "├── systemd-private-2d95c2758e1c46ad97b31824c27f5a0e-colord.service-p0E8sR\n",
      "├── systemd-private-2d95c2758e1c46ad97b31824c27f5a0e-rtkit-daemon.service-hyPw0K\n",
      "├── tmux-1000\n",
      "├── zzz\n"
     ]
    }
   ],
   "source": [
    "tree()"
   ]
  },
  {
   "cell_type": "markdown",
   "metadata": {},
   "source": [
    "Hooray!"
   ]
  },
  {
   "cell_type": "markdown",
   "metadata": {
    "slideshow": {
     "slide_type": "slide"
    }
   },
   "source": [
    "5 Lines of Python…"
   ]
  },
  {
   "cell_type": "markdown",
   "metadata": {
    "slideshow": {
     "slide_type": "slide"
    }
   },
   "source": [
    "5 Lines of Python → first order approximation of `tree`"
   ]
  },
  {
   "cell_type": "code",
   "execution_count": 24,
   "metadata": {
    "collapsed": false
   },
   "outputs": [
    {
     "name": "stdout",
     "output_type": "stream",
     "text": [
      "\u001b[30;42m.\u001b[00m\r\n",
      "├── config-err-nMfopY\r\n",
      "├── \u001b[01;34mfoo\u001b[00m\r\n",
      "├── \u001b[01;34mgpg-Rm8aoI\u001b[00m\r\n",
      "├── \u001b[01;34mhsperfdata_drocco\u001b[00m\r\n",
      "├── +~JF2068339028303085085.tmp\r\n",
      "├── +~JF3389823636842465214.tmp\r\n",
      "├── +~JF3945977373033545895.tmp\r\n",
      "├── +~JF4064088703298571803.tmp\r\n",
      "├── +~JF6869405115425776864.tmp\r\n",
      "├── \u001b[01;34mssh-cZcqyXaOUDP2\u001b[00m\r\n",
      "├── \u001b[01;34msystemd-private-2d95c2758e1c46ad97b31824c27f5a0e-colord.service-p0E8sR\u001b[00m\r\n",
      "├── \u001b[01;34msystemd-private-2d95c2758e1c46ad97b31824c27f5a0e-rtkit-daemon.service-hyPw0K\u001b[00m\r\n",
      "├── \u001b[01;34mtmux-1000\u001b[00m\r\n",
      "└── \u001b[01;34mzzz\u001b[00m\r\n",
      "\r\n",
      "8 directories, 6 files\r\n"
     ]
    }
   ],
   "source": [
    "!tree -L 1"
   ]
  },
  {
   "cell_type": "markdown",
   "metadata": {
    "collapsed": false,
    "slideshow": {
     "slide_type": "slide"
    }
   },
   "source": [
    "Hang on, but I don't *like* that sort!"
   ]
  },
  {
   "cell_type": "markdown",
   "metadata": {
    "slideshow": {
     "slide_type": "slide"
    }
   },
   "source": [
    "Observe: "
   ]
  },
  {
   "cell_type": "markdown",
   "metadata": {
    "slideshow": {
     "slide_type": "fragment"
    }
   },
   "source": [
    "building `tree` *educated* you"
   ]
  },
  {
   "cell_type": "markdown",
   "metadata": {
    "collapsed": false,
    "slideshow": {
     "slide_type": "slide"
    }
   },
   "source": [
    "you understand more of how `tree` works,\n",
    "\n",
    "which means"
   ]
  },
  {
   "cell_type": "markdown",
   "metadata": {
    "collapsed": false,
    "slideshow": {
     "slide_type": "slide"
    }
   },
   "source": [
    "you can change it"
   ]
  },
  {
   "cell_type": "markdown",
   "metadata": {
    "collapsed": false,
    "slideshow": {
     "slide_type": "slide"
    }
   },
   "source": [
    "Q:\n",
    "\n",
    "*Why does* `tree` *sort this way?*"
   ]
  },
  {
   "cell_type": "markdown",
   "metadata": {
    "collapsed": false,
    "slideshow": {
     "slide_type": "slide"
    }
   },
   "source": [
    "A:\n",
    "\n",
    "`tree` *performs a locale-aware sort!*"
   ]
  },
  {
   "cell_type": "markdown",
   "metadata": {
    "collapsed": false,
    "slideshow": {
     "slide_type": "slide"
    }
   },
   "source": [
    "∴ to change the sort, *change the locale!*"
   ]
  },
  {
   "cell_type": "code",
   "execution_count": 25,
   "metadata": {
    "collapsed": false,
    "scrolled": false,
    "slideshow": {
     "slide_type": "-"
    }
   },
   "outputs": [
    {
     "name": "stdout",
     "output_type": "stream",
     "text": [
      "\u001b[30;42m.\u001b[00m\r\n",
      "├── +~JF2068339028303085085.tmp\r\n",
      "├── +~JF3389823636842465214.tmp\r\n",
      "├── +~JF3945977373033545895.tmp\r\n",
      "├── +~JF4064088703298571803.tmp\r\n",
      "├── +~JF6869405115425776864.tmp\r\n",
      "├── config-err-nMfopY\r\n",
      "├── \u001b[01;34mfoo\u001b[00m\r\n",
      "│   ├── \u001b[01;34mbar\u001b[00m\r\n",
      "│   │   ├── \u001b[01;34mbaz\u001b[00m\r\n",
      "│   │   │   └── \u001b[01;34mbiff\u001b[00m\r\n",
      "│   │   └── snurgle.txt\r\n",
      "│   └── boff.log\r\n",
      "├── \u001b[01;34mgpg-Rm8aoI\u001b[00m\r\n",
      "│   └── \u001b[01;35mS.gpg-agent\u001b[00m\r\n",
      "├── \u001b[01;34mhsperfdata_drocco\u001b[00m\r\n",
      "│   └── 4048\r\n",
      "├── \u001b[01;34mssh-cZcqyXaOUDP2\u001b[00m\r\n",
      "│   └── \u001b[01;35magent.2167\u001b[00m\r\n",
      "├── \u001b[01;34msystemd-private-2d95c2758e1c46ad97b31824c27f5a0e-colord.service-p0E8sR\u001b[00m [error opening dir]\r\n",
      "├── \u001b[01;34msystemd-private-2d95c2758e1c46ad97b31824c27f5a0e-rtkit-daemon.service-hyPw0K\u001b[00m [error opening dir]\r\n",
      "├── \u001b[01;34mtmux-1000\u001b[00m\r\n",
      "│   └── \u001b[01;35mdefault\u001b[00m\r\n",
      "└── \u001b[01;34mzzz\u001b[00m\r\n",
      "    └── \u001b[01;34mzzz\u001b[00m\r\n",
      "        ├── 1_super.txt\r\n",
      "        └── sapling.txt\r\n",
      "\r\n",
      "12 directories, 14 files\r\n"
     ]
    }
   ],
   "source": [
    "!LC_COLLATE=C tree"
   ]
  },
  {
   "cell_type": "markdown",
   "metadata": {
    "slideshow": {
     "slide_type": "slide"
    }
   },
   "source": [
    "Our version: fixing the last entry…\n",
    "\n",
    "    ├── …\n",
    "    ├── tmux-1000\n",
    "    ├── zzz\n",
    "\n",
    "    ^^^\n",
    "    "
   ]
  },
  {
   "cell_type": "code",
   "execution_count": 26,
   "metadata": {
    "collapsed": false,
    "scrolled": false,
    "slideshow": {
     "slide_type": "slide"
    }
   },
   "outputs": [],
   "source": [
    "def tree():\n",
    "    print('.')\n",
    "\n",
    "    names = sorted(glob.glob('*'), key=locale.strxfrm)\n",
    "    \n",
    "    for name in names[:-1]:\n",
    "        print('├──', name)\n",
    "    else:\n",
    "        print('└──', names[-1])\n",
    "    "
   ]
  },
  {
   "cell_type": "code",
   "execution_count": 27,
   "metadata": {
    "collapsed": false,
    "scrolled": false
   },
   "outputs": [
    {
     "name": "stdout",
     "output_type": "stream",
     "text": [
      ".\n",
      "├── config-err-nMfopY\n",
      "├── foo\n",
      "├── gpg-Rm8aoI\n",
      "├── hsperfdata_drocco\n",
      "├── +~JF2068339028303085085.tmp\n",
      "├── +~JF3389823636842465214.tmp\n",
      "├── +~JF3945977373033545895.tmp\n",
      "├── +~JF4064088703298571803.tmp\n",
      "├── +~JF6869405115425776864.tmp\n",
      "├── ssh-cZcqyXaOUDP2\n",
      "├── systemd-private-2d95c2758e1c46ad97b31824c27f5a0e-colord.service-p0E8sR\n",
      "├── systemd-private-2d95c2758e1c46ad97b31824c27f5a0e-rtkit-daemon.service-hyPw0K\n",
      "├── tmux-1000\n",
      "└── zzz\n"
     ]
    }
   ],
   "source": [
    "tree()"
   ]
  },
  {
   "cell_type": "markdown",
   "metadata": {
    "slideshow": {
     "slide_type": "slide"
    }
   },
   "source": [
    "SRP:\n",
    "\n",
    "Split *node formatting* out from **driver/manager**"
   ]
  },
  {
   "cell_type": "code",
   "execution_count": 28,
   "metadata": {
    "collapsed": false,
    "scrolled": false,
    "slideshow": {
     "slide_type": "slide"
    }
   },
   "outputs": [],
   "source": [
    "def visit_node(name, last=False):\n",
    "    marker = '└──' if last else '├──'\n",
    "    print(marker, name, sep='')\n",
    "\n",
    "\n",
    "def tree(root='.'):\n",
    "    print(root)\n",
    "\n",
    "    names = sorted(glob.glob('*'), key=locale.strxfrm)\n",
    "    \n",
    "    for name in names[:-1]:\n",
    "        visit_node(name)\n",
    "    else:\n",
    "        visit_node(names[-1], last=True)"
   ]
  },
  {
   "cell_type": "markdown",
   "metadata": {
    "slideshow": {
     "slide_type": "slide"
    }
   },
   "source": [
    "Clean Architecture, Data & Transforms:\n",
    "\n",
    "*Use an annotation transform to get rid of the special case for the last node*"
   ]
  },
  {
   "cell_type": "code",
   "execution_count": 29,
   "metadata": {
    "collapsed": false,
    "scrolled": false,
    "slideshow": {
     "slide_type": "slide"
    }
   },
   "outputs": [],
   "source": [
    "def sorted_names(root):\n",
    "    pattern = os.path.join(root, '*')\n",
    "    return sorted(glob.glob(pattern), key=locale.strxfrm)\n",
    "    \n",
    "\n",
    "def annotate(names):\n",
    "    yield from ((name, False) for name in names[:-1])\n",
    "    \n",
    "    if names:\n",
    "        yield names[-1], True\n",
    "        \n",
    "\n",
    "def visit_node(name, last=False):\n",
    "    marker = '└── ' if last else '├── '\n",
    "    print(marker, name, sep='')\n",
    "\n",
    "\n",
    "def tree(root='.'):\n",
    "    print(root)\n",
    "\n",
    "    for name, last in annotate(sorted_names(root)):\n",
    "        display_name = os.path.basename(name)\n",
    "        visit_node(display_name, last=last)"
   ]
  },
  {
   "cell_type": "markdown",
   "metadata": {
    "slideshow": {
     "slide_type": "slide"
    }
   },
   "source": [
    "Why?"
   ]
  },
  {
   "cell_type": "markdown",
   "metadata": {
    "slideshow": {
     "slide_type": "slide"
    }
   },
   "source": [
    "Why?\n",
    "\n",
    "Separation of responsibilities allows"
   ]
  },
  {
   "cell_type": "markdown",
   "metadata": {
    "slideshow": {
     "slide_type": "slide"
    }
   },
   "source": [
    "**growth**"
   ]
  },
  {
   "cell_type": "markdown",
   "metadata": {
    "slideshow": {
     "slide_type": "slide"
    }
   },
   "source": [
    "The branch conceals\n",
    "\n",
    "**duplication**\n",
    "\n",
    "which inhibits future growth"
   ]
  },
  {
   "cell_type": "markdown",
   "metadata": {
    "slideshow": {
     "slide_type": "slide"
    }
   },
   "source": [
    "by requiring us to make every change"
   ]
  },
  {
   "cell_type": "markdown",
   "metadata": {
    "slideshow": {
     "slide_type": "slide"
    }
   },
   "source": [
    "**twice**"
   ]
  },
  {
   "cell_type": "markdown",
   "metadata": {
    "slideshow": {
     "slide_type": "slide"
    }
   },
   "source": [
    "Handling subdirectories:\n",
    "\n",
    "*lather, rinse, repeat*"
   ]
  },
  {
   "cell_type": "code",
   "execution_count": 30,
   "metadata": {
    "collapsed": false,
    "scrolled": false,
    "slideshow": {
     "slide_type": "slide"
    }
   },
   "outputs": [],
   "source": [
    "# sorted_names, annotate, visit_node as before\n",
    "\n",
    "def subtree(root):\n",
    "    for name, last in annotate(sorted_names(root)):\n",
    "        display_name = os.path.basename(name)\n",
    "        visit_node(display_name, last=last)\n",
    "\n",
    "        if os.path.isdir(name):\n",
    "            subtree(name)\n",
    "        \n",
    "def tree(root='.'):\n",
    "    print(root)\n",
    "    subtree(root)"
   ]
  },
  {
   "cell_type": "code",
   "execution_count": 31,
   "metadata": {
    "collapsed": false,
    "scrolled": false
   },
   "outputs": [
    {
     "name": "stdout",
     "output_type": "stream",
     "text": [
      ".\n",
      "├── config-err-nMfopY\n",
      "├── foo\n",
      "├── bar\n",
      "├── baz\n",
      "└── biff\n",
      "└── snurgle.txt\n",
      "└── boff.log\n",
      "├── gpg-Rm8aoI\n",
      "└── S.gpg-agent\n",
      "├── hsperfdata_drocco\n",
      "└── 4048\n",
      "├── +~JF2068339028303085085.tmp\n",
      "├── +~JF3389823636842465214.tmp\n",
      "├── +~JF3945977373033545895.tmp\n",
      "├── +~JF4064088703298571803.tmp\n",
      "├── +~JF6869405115425776864.tmp\n",
      "├── ssh-cZcqyXaOUDP2\n",
      "└── agent.2167\n",
      "├── systemd-private-2d95c2758e1c46ad97b31824c27f5a0e-colord.service-p0E8sR\n",
      "├── systemd-private-2d95c2758e1c46ad97b31824c27f5a0e-rtkit-daemon.service-hyPw0K\n",
      "├── tmux-1000\n",
      "└── default\n",
      "└── zzz\n",
      "└── zzz\n",
      "├── 1_super.txt\n",
      "└── sapling.txt\n"
     ]
    }
   ],
   "source": [
    "tree()"
   ]
  },
  {
   "cell_type": "markdown",
   "metadata": {
    "slideshow": {
     "slide_type": "slide"
    }
   },
   "source": [
    "Depth tracking"
   ]
  },
  {
   "cell_type": "code",
   "execution_count": 32,
   "metadata": {
    "collapsed": false,
    "scrolled": false,
    "slideshow": {
     "slide_type": "slide"
    }
   },
   "outputs": [],
   "source": [
    "# sorted_names, annotate, tree as before\n",
    "\n",
    "def visit_node(name, last=False, depth=0):\n",
    "    prefix = '│   ' * depth\n",
    "    marker = '└── ' if last else '├── '\n",
    "    print(prefix, marker, name, sep='')\n",
    "        \n",
    "\n",
    "def subtree(root, depth=0):\n",
    "    for name, last in annotate(sorted_names(root)):\n",
    "        display_name = os.path.basename(name)\n",
    "        visit_node(display_name, last=last, depth=depth)\n",
    "\n",
    "        if os.path.isdir(name):\n",
    "            subtree(name, depth=depth + 1)"
   ]
  },
  {
   "cell_type": "code",
   "execution_count": 33,
   "metadata": {
    "collapsed": false,
    "scrolled": false,
    "slideshow": {
     "slide_type": "slide"
    }
   },
   "outputs": [
    {
     "name": "stdout",
     "output_type": "stream",
     "text": [
      ".\n",
      "├── config-err-nMfopY\n",
      "├── foo\n",
      "│   ├── bar\n",
      "│   │   ├── baz\n",
      "│   │   │   └── biff\n",
      "│   │   └── snurgle.txt\n",
      "│   └── boff.log\n",
      "├── gpg-Rm8aoI\n",
      "│   └── S.gpg-agent\n",
      "├── hsperfdata_drocco\n",
      "│   └── 4048\n",
      "├── +~JF2068339028303085085.tmp\n",
      "├── +~JF3389823636842465214.tmp\n",
      "├── +~JF3945977373033545895.tmp\n",
      "├── +~JF4064088703298571803.tmp\n",
      "├── +~JF6869405115425776864.tmp\n",
      "├── ssh-cZcqyXaOUDP2\n",
      "│   └── agent.2167\n",
      "├── systemd-private-2d95c2758e1c46ad97b31824c27f5a0e-colord.service-p0E8sR\n",
      "├── systemd-private-2d95c2758e1c46ad97b31824c27f5a0e-rtkit-daemon.service-hyPw0K\n",
      "├── tmux-1000\n",
      "│   └── default\n",
      "└── zzz\n",
      "│   └── zzz\n",
      "│   │   ├── 1_super.txt\n",
      "│   │   └── sapling.txt\n"
     ]
    }
   ],
   "source": [
    "tree()"
   ]
  },
  {
   "cell_type": "markdown",
   "metadata": {
    "slideshow": {
     "slide_type": "slide"
    }
   },
   "source": [
    "Cleaning up the `last_path`"
   ]
  },
  {
   "cell_type": "code",
   "execution_count": 34,
   "metadata": {
    "collapsed": false,
    "scrolled": false,
    "slideshow": {
     "slide_type": "-"
    }
   },
   "outputs": [],
   "source": [
    "# sorted_names, annotate, tree as before\n",
    "\n",
    "def visit_node(name, last=False, depth=0, last_path=False):\n",
    "    prefix = '    ' if last_path else '│   ' \n",
    "    prefix *= depth\n",
    "    marker = '└── ' if last else '├── '\n",
    "    print(prefix, marker, name, sep='')\n",
    "        \n",
    "\n",
    "def subtree(root, depth=0, last_path=False):\n",
    "    for name, last in annotate(sorted_names(root)):\n",
    "        if last and not depth:\n",
    "            last_path = True\n",
    "            \n",
    "        display_name = os.path.basename(name)\n",
    "        visit_node(display_name, last=last, depth=depth,\n",
    "                   last_path=last_path)\n",
    "\n",
    "        if os.path.isdir(name):\n",
    "            subtree(name, depth=depth + 1, last_path=last_path)"
   ]
  },
  {
   "cell_type": "code",
   "execution_count": 35,
   "metadata": {
    "collapsed": false,
    "slideshow": {
     "slide_type": "slide"
    }
   },
   "outputs": [
    {
     "name": "stdout",
     "output_type": "stream",
     "text": [
      ".\n",
      "├── config-err-nMfopY\n",
      "├── foo\n",
      "│   ├── bar\n",
      "│   │   ├── baz\n",
      "│   │   │   └── biff\n",
      "│   │   └── snurgle.txt\n",
      "│   └── boff.log\n",
      "├── gpg-Rm8aoI\n",
      "│   └── S.gpg-agent\n",
      "├── hsperfdata_drocco\n",
      "│   └── 4048\n",
      "├── +~JF2068339028303085085.tmp\n",
      "├── +~JF3389823636842465214.tmp\n",
      "├── +~JF3945977373033545895.tmp\n",
      "├── +~JF4064088703298571803.tmp\n",
      "├── +~JF6869405115425776864.tmp\n",
      "├── ssh-cZcqyXaOUDP2\n",
      "│   └── agent.2167\n",
      "├── systemd-private-2d95c2758e1c46ad97b31824c27f5a0e-colord.service-p0E8sR\n",
      "├── systemd-private-2d95c2758e1c46ad97b31824c27f5a0e-rtkit-daemon.service-hyPw0K\n",
      "├── tmux-1000\n",
      "│   └── default\n",
      "└── zzz\n",
      "    └── zzz\n",
      "        ├── 1_super.txt\n",
      "        └── sapling.txt\n"
     ]
    }
   ],
   "source": [
    "tree()"
   ]
  },
  {
   "cell_type": "markdown",
   "metadata": {
    "collapsed": true,
    "slideshow": {
     "slide_type": "slide"
    }
   },
   "source": [
    "How do we implement solutions?"
   ]
  },
  {
   "cell_type": "markdown",
   "metadata": {
    "collapsed": true,
    "slideshow": {
     "slide_type": "slide"
    }
   },
   "source": [
    "understand the problem"
   ]
  },
  {
   "cell_type": "markdown",
   "metadata": {
    "collapsed": true,
    "slideshow": {
     "slide_type": "slide"
    }
   },
   "source": [
    "work in small, incremental steps"
   ]
  },
  {
   "cell_type": "markdown",
   "metadata": {
    "collapsed": true,
    "slideshow": {
     "slide_type": "slide"
    }
   },
   "source": [
    "test frequently"
   ]
  },
  {
   "cell_type": "markdown",
   "metadata": {
    "collapsed": true,
    "slideshow": {
     "slide_type": "slide"
    }
   },
   "source": [
    "know your tools"
   ]
  },
  {
   "cell_type": "markdown",
   "metadata": {
    "collapsed": true,
    "slideshow": {
     "slide_type": "slide"
    }
   },
   "source": [
    "practice, practice, practice!"
   ]
  },
  {
   "cell_type": "markdown",
   "metadata": {
    "collapsed": true,
    "slideshow": {
     "slide_type": "slide"
    }
   },
   "source": [
    "and"
   ]
  },
  {
   "cell_type": "markdown",
   "metadata": {
    "collapsed": true,
    "slideshow": {
     "slide_type": "slide"
    }
   },
   "source": [
    "never stop learning"
   ]
  },
  {
   "cell_type": "markdown",
   "metadata": {
    "collapsed": true,
    "slideshow": {
     "slide_type": "slide"
    }
   },
   "source": [
    "Thank you!"
   ]
  },
  {
   "cell_type": "markdown",
   "metadata": {
    "collapsed": true,
    "slideshow": {
     "slide_type": "slide"
    }
   },
   "source": [
    "♥,\n",
    "\n",
    "@drocco007"
   ]
  }
 ],
 "metadata": {
  "celltoolbar": "Slideshow",
  "kernelspec": {
   "display_name": "Python 3",
   "language": "python",
   "name": "python3"
  },
  "language_info": {
   "codemirror_mode": {
    "name": "ipython",
    "version": 3
   },
   "file_extension": ".py",
   "mimetype": "text/x-python",
   "name": "python",
   "nbconvert_exporter": "python",
   "pygments_lexer": "ipython3",
   "version": "3.4.3"
  }
 },
 "nbformat": 4,
 "nbformat_minor": 0
}
